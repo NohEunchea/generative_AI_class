{
 "cells": [
  {
   "cell_type": "code",
   "execution_count": 118,
   "metadata": {},
   "outputs": [],
   "source": [
    "# 1. 모듈 임포트\n",
    "import time\n",
    "from selenium import webdriver\n",
    "from selenium.webdriver.chrome.service import Service\n",
    "from webdriver_manager.chrome import ChromeDriverManager\n",
    "from selenium.webdriver.common.by import By\n",
    "from selenium.webdriver import Keys\n",
    "import requests\n",
    "\n",
    "# 폴더 관리를 위한 모듈(5번 항목)\n",
    "import os\n",
    "\n",
    "# 이미지 링크 주소 파싱을 위한 모듈(6번 항목)\n",
    "from urllib.parse import urlparse, unquote"
   ]
  },
  {
   "cell_type": "code",
   "execution_count": 119,
   "metadata": {},
   "outputs": [],
   "source": [
    "# 2. 드라이버 옵션 설정 및 브라우저 띄우기\n",
    "chrom_options = webdriver.ChromeOptions()\n",
    "chrom_options.add_experimental_option('detach', True)\n",
    "driver = webdriver.Chrome(service=Service(ChromeDriverManager().install()), \n",
    "                          options=chrom_options)\n",
    "time.sleep(1)"
   ]
  },
  {
   "cell_type": "code",
   "execution_count": 120,
   "metadata": {},
   "outputs": [],
   "source": [
    "# 3-1. 구글 이미지 검색 주소 이동\n",
    "url = \"https://www.google.com/imghp?hl=ko&tab=wi\"\n",
    "driver.get(url)\n",
    "time.sleep(3)"
   ]
  },
  {
   "cell_type": "code",
   "execution_count": 121,
   "metadata": {},
   "outputs": [],
   "source": [
    "# 3-2. 검색어 입력 및 검색\n",
    "img_name = \"seal\"\n",
    "search_img = driver.find_element(By.CSS_SELECTOR, \"textarea.gLFyf\")\n",
    "search_img.send_keys(img_name)\n",
    "time.sleep(1)\n",
    "search_img.send_keys(Keys.ENTER)"
   ]
  },
  {
   "cell_type": "code",
   "execution_count": 123,
   "metadata": {},
   "outputs": [],
   "source": [
    "# 4-1. 처음 이미지 선택(선택해서 클릭한 이미지가 원본 이미지)\n",
    "first_img = driver.find_element(By.CSS_SELECTOR, \"#dimg_29\")\n",
    "first_img.click()\n",
    "time.sleep(1)"
   ]
  },
  {
   "cell_type": "code",
   "execution_count": 124,
   "metadata": {},
   "outputs": [
    {
     "name": "stdout",
     "output_type": "stream",
     "text": [
      "https://files.worldwildlife.org/wwfcmsprod/images/HERO_harbor_seal_on_ice/hero_small/41yzw17euy_Harbor_Seal_on_Ice_close_0357_6_11_07.jpg\n"
     ]
    }
   ],
   "source": [
    "# 4-2. 원본 이미지 링크 확인\n",
    "target_img = driver.find_element(By.CSS_SELECTOR, \"img.sFlh5c.pT0Scc.iPVvYb\")\n",
    "target_img_link = target_img.get_attribute(\"src\")\n",
    "print(target_img_link)"
   ]
  },
  {
   "cell_type": "code",
   "execution_count": 125,
   "metadata": {},
   "outputs": [
    {
     "name": "stdout",
     "output_type": "stream",
     "text": [
      "'./seal/' 폴더가 생성되었거나 이미 존재합니다.\n"
     ]
    }
   ],
   "source": [
    "# 5. 목표 사진 개수 설정 및 저장 폴더 설정\n",
    "target_count = 100\n",
    "save_dir = f\"./{img_name}/\"\n",
    "\n",
    "if not os.path.exists(save_dir):\n",
    "    os.makedirs(save_dir, exist_ok=True)\n",
    "\n",
    "print(f\"'{save_dir}' 폴더가 생성되었거나 이미 존재합니다.\")"
   ]
  },
  {
   "cell_type": "code",
   "execution_count": 127,
   "metadata": {},
   "outputs": [],
   "source": [
    "# 6-1. 다음 이미지 버튼 요소 추출 테스트\n",
    "next_div = driver.find_elements(By.CSS_SELECTOR, \"div.HJRshd\")\n",
    "# 처음 이미지 일때는 2개이며, 원하는 요소는 0번째 \n",
    "# 다음 이미지일 때는 버튼이 3개, 원하는 요소는 1번째 따라서 인덱스는 뒤에서 -2\n",
    "target_div = next_div[-2]"
   ]
  },
  {
   "cell_type": "code",
   "execution_count": 128,
   "metadata": {},
   "outputs": [
    {
     "name": "stdout",
     "output_type": "stream",
     "text": [
      "이전 이미지\n",
      "다음 이미지\n",
      "이 검색 결과에 관한 작업 더보기\n",
      "닫기\n"
     ]
    }
   ],
   "source": [
    "# 6-2. 버튼 테스트\n",
    "buttons = target_div.find_elements(By.TAG_NAME, \"button\")\n",
    "# 버튼 확인용\n",
    "for btn in buttons:\n",
    "    print(btn.get_attribute(\"aria-label\"))"
   ]
  },
  {
   "cell_type": "code",
   "execution_count": 129,
   "metadata": {},
   "outputs": [
    {
     "name": "stdout",
     "output_type": "stream",
     "text": [
      "이미지 링크입니다 https://files.worldwildlife.org/wwfcmsprod/images/HERO_harbor_seal_on_ice/hero_small/41yzw17euy_Harbor_Seal_on_Ice_close_0357_6_11_07.jpg\n"
     ]
    }
   ],
   "source": [
    "# 6-3. 이미지 저장 링크 테스트\n",
    "target_img = driver.find_elements(By.CSS_SELECTOR, \"img.sFlh5c.pT0Scc.iPVvYb\")\n",
    "for img in target_img:\n",
    "    print(\"이미지 링크입니다\", img.get_attribute(\"src\"))"
   ]
  },
  {
   "cell_type": "code",
   "execution_count": 130,
   "metadata": {},
   "outputs": [
    {
     "name": "stdout",
     "output_type": "stream",
     "text": [
      "이미지가 성공적으로 다운로드되었습니다: ./seal/seal_test.jpg\n"
     ]
    }
   ],
   "source": [
    "# 6-4 이미지 저장 테스트 - 이미지 데이터를 GET 요청으로 가져오기\n",
    "target_img_link = target_img[-1].get_attribute(\"src\")\n",
    "response = requests.get(target_img_link)\n",
    "\n",
    "# 요청이 성공적인 경우, 이미지를 로컬 파일로 저장\n",
    "if response.status_code == 200:\n",
    "    # 이미지 확장자 확인 및 쿼리 파라미터 제거를 위한 작업\n",
    "    path = urlparse(target_img_link).path\n",
    "    decoded_path = unquote(path)\n",
    "    file_name = decoded_path.split(\"/\")[-1]\n",
    "    file_ext = file_name.split(\".\")[-1]\n",
    "    save_name = f\"{save_dir}{img_name}_test.{file_ext}\"\n",
    "    # 바이너리 쓰기 모드로 파일 열기\n",
    "    with open(save_name, 'wb') as file:\n",
    "        file.write(response.content)\n",
    "    print(f\"이미지가 성공적으로 다운로드되었습니다: {save_name}\")\n",
    "else:\n",
    "    print(\"이미지 다운로드 실패\")"
   ]
  },
  {
   "cell_type": "code",
   "execution_count": 131,
   "metadata": {},
   "outputs": [
    {
     "name": "stdout",
     "output_type": "stream",
     "text": [
      "https://files.worldwildlife.org/wwfcmsprod/images/HERO_harbor_seal_on_ice/hero_small/41yzw17euy_Harbor_Seal_on_Ice_close_0357_6_11_07.jpg\n",
      "이미지가 성공적으로 다운로드되었습니다: ./seal/seal_198.jpg\n"
     ]
    },
    {
     "name": "stderr",
     "output_type": "stream",
     "text": [
      "c:\\Users\\MSI\\.conda\\envs\\Noh_gpu_env310\\lib\\site-packages\\urllib3\\connectionpool.py:1103: InsecureRequestWarning: Unverified HTTPS request is being made to host 'files.worldwildlife.org'. Adding certificate verification is strongly advised. See: https://urllib3.readthedocs.io/en/latest/advanced-usage.html#tls-warnings\n",
      "  warnings.warn(\n"
     ]
    },
    {
     "name": "stdout",
     "output_type": "stream",
     "text": [
      "https://storage.googleapis.com/oceanwide_web/media-dynamic/cache/widen_1600/media/default/0001/07/51c1ef50e9b38e89fc447b265b4f8ed4d705d093.jpeg\n"
     ]
    },
    {
     "name": "stderr",
     "output_type": "stream",
     "text": [
      "c:\\Users\\MSI\\.conda\\envs\\Noh_gpu_env310\\lib\\site-packages\\urllib3\\connectionpool.py:1103: InsecureRequestWarning: Unverified HTTPS request is being made to host 'storage.googleapis.com'. Adding certificate verification is strongly advised. See: https://urllib3.readthedocs.io/en/latest/advanced-usage.html#tls-warnings\n",
      "  warnings.warn(\n"
     ]
    },
    {
     "name": "stdout",
     "output_type": "stream",
     "text": [
      "이미지가 성공적으로 다운로드되었습니다: ./seal/seal_199.jpeg\n",
      "https://storage.googleapis.com/oceanwide_web/media-dynamic/cache/widen_1600/media/default/0001/07/51c1ef50e9b38e89fc447b265b4f8ed4d705d093.jpeg\n",
      "이미지가 성공적으로 다운로드되었습니다: ./seal/seal_200.jpeg\n"
     ]
    },
    {
     "name": "stderr",
     "output_type": "stream",
     "text": [
      "c:\\Users\\MSI\\.conda\\envs\\Noh_gpu_env310\\lib\\site-packages\\urllib3\\connectionpool.py:1103: InsecureRequestWarning: Unverified HTTPS request is being made to host 'storage.googleapis.com'. Adding certificate verification is strongly advised. See: https://urllib3.readthedocs.io/en/latest/advanced-usage.html#tls-warnings\n",
      "  warnings.warn(\n"
     ]
    },
    {
     "name": "stdout",
     "output_type": "stream",
     "text": [
      "https://www.fisheries.noaa.gov/s3//dam-migration/3008x2000-spottedseal-afsc-bstewart_0045-_retouched.jpg\n",
      "이미지가 성공적으로 다운로드되었습니다: ./seal/seal_201.jpg\n"
     ]
    },
    {
     "name": "stderr",
     "output_type": "stream",
     "text": [
      "c:\\Users\\MSI\\.conda\\envs\\Noh_gpu_env310\\lib\\site-packages\\urllib3\\connectionpool.py:1103: InsecureRequestWarning: Unverified HTTPS request is being made to host 'www.fisheries.noaa.gov'. Adding certificate verification is strongly advised. See: https://urllib3.readthedocs.io/en/latest/advanced-usage.html#tls-warnings\n",
      "  warnings.warn(\n"
     ]
    },
    {
     "name": "stdout",
     "output_type": "stream",
     "text": [
      "https://upload.wikimedia.org/wikipedia/commons/9/94/Seal_2012.jpg\n"
     ]
    },
    {
     "name": "stderr",
     "output_type": "stream",
     "text": [
      "c:\\Users\\MSI\\.conda\\envs\\Noh_gpu_env310\\lib\\site-packages\\urllib3\\connectionpool.py:1103: InsecureRequestWarning: Unverified HTTPS request is being made to host 'upload.wikimedia.org'. Adding certificate verification is strongly advised. See: https://urllib3.readthedocs.io/en/latest/advanced-usage.html#tls-warnings\n",
      "  warnings.warn(\n"
     ]
    },
    {
     "name": "stdout",
     "output_type": "stream",
     "text": [
      "이미지가 성공적으로 다운로드되었습니다: ./seal/seal_202.jpg\n",
      "https://www.pbs.org/wnet/nature/files/2021/09/pexels-jen-healy-2542323-scaled-e1630516547713.jpg\n"
     ]
    },
    {
     "name": "stderr",
     "output_type": "stream",
     "text": [
      "c:\\Users\\MSI\\.conda\\envs\\Noh_gpu_env310\\lib\\site-packages\\urllib3\\connectionpool.py:1103: InsecureRequestWarning: Unverified HTTPS request is being made to host 'www.pbs.org'. Adding certificate verification is strongly advised. See: https://urllib3.readthedocs.io/en/latest/advanced-usage.html#tls-warnings\n",
      "  warnings.warn(\n"
     ]
    },
    {
     "name": "stdout",
     "output_type": "stream",
     "text": [
      "이미지가 성공적으로 다운로드되었습니다: ./seal/seal_203.jpg\n",
      "https://www.quarkexpeditions.com/sites/default/files/styles/qrk_fpsc_1200x630/public/blog-thumbnails/AdobeStock_144122141.jpeg?itok=VUDJAMFo\n"
     ]
    },
    {
     "name": "stderr",
     "output_type": "stream",
     "text": [
      "c:\\Users\\MSI\\.conda\\envs\\Noh_gpu_env310\\lib\\site-packages\\urllib3\\connectionpool.py:1103: InsecureRequestWarning: Unverified HTTPS request is being made to host 'www.quarkexpeditions.com'. Adding certificate verification is strongly advised. See: https://urllib3.readthedocs.io/en/latest/advanced-usage.html#tls-warnings\n",
      "  warnings.warn(\n"
     ]
    },
    {
     "name": "stdout",
     "output_type": "stream",
     "text": [
      "이미지가 성공적으로 다운로드되었습니다: ./seal/seal_204.jpeg\n",
      "https://upload.wikimedia.org/wikipedia/commons/7/74/California_sea_lion_in_La_Jolla_%2870568%29.jpg\n"
     ]
    },
    {
     "name": "stderr",
     "output_type": "stream",
     "text": [
      "c:\\Users\\MSI\\.conda\\envs\\Noh_gpu_env310\\lib\\site-packages\\urllib3\\connectionpool.py:1103: InsecureRequestWarning: Unverified HTTPS request is being made to host 'upload.wikimedia.org'. Adding certificate verification is strongly advised. See: https://urllib3.readthedocs.io/en/latest/advanced-usage.html#tls-warnings\n",
      "  warnings.warn(\n"
     ]
    },
    {
     "name": "stdout",
     "output_type": "stream",
     "text": [
      "이미지가 성공적으로 다운로드되었습니다: ./seal/seal_205.jpg\n",
      "https://lh6.googleusercontent.com/proxy/elmVkxWYoS2EjJeYpdJeHNIGYwwFSmMhkRb-irtsr64ce2QTgrak3Jzc-EAJzLhrEmrxfs61SZ-zFZS97H0-Izlca6E5m1LHbypqmvzk-jU0PQ\n"
     ]
    },
    {
     "name": "stderr",
     "output_type": "stream",
     "text": [
      "c:\\Users\\MSI\\.conda\\envs\\Noh_gpu_env310\\lib\\site-packages\\urllib3\\connectionpool.py:1103: InsecureRequestWarning: Unverified HTTPS request is being made to host 'lh6.googleusercontent.com'. Adding certificate verification is strongly advised. See: https://urllib3.readthedocs.io/en/latest/advanced-usage.html#tls-warnings\n",
      "  warnings.warn(\n"
     ]
    },
    {
     "name": "stdout",
     "output_type": "stream",
     "text": [
      "이미지가 성공적으로 다운로드되었습니다: ./seal/seal_206.elmVkxWYoS2EjJeYpdJeHNIGYwwFSmMhkRb-irtsr64ce2QTgrak3Jzc-EAJzLhrEmrxfs61SZ-zFZS97H0-Izlca6E5m1LHbypqmvzk-jU0PQ\n",
      "https://www.zoo-berlin.de/fileadmin/_processed_/4/7/csm_Seehund-Nachwuchs_9073_1__e098dfcd9a.jpg\n"
     ]
    },
    {
     "name": "stderr",
     "output_type": "stream",
     "text": [
      "c:\\Users\\MSI\\.conda\\envs\\Noh_gpu_env310\\lib\\site-packages\\urllib3\\connectionpool.py:1103: InsecureRequestWarning: Unverified HTTPS request is being made to host 'www.zoo-berlin.de'. Adding certificate verification is strongly advised. See: https://urllib3.readthedocs.io/en/latest/advanced-usage.html#tls-warnings\n",
      "  warnings.warn(\n"
     ]
    },
    {
     "name": "stdout",
     "output_type": "stream",
     "text": [
      "이미지가 성공적으로 다운로드되었습니다: ./seal/seal_207.jpg\n",
      "https://www.treehugger.com/thmb/N0QoTecw3pV8MGXpW68_s4wIm4U=/1500x0/filters:no_upscale():max_bytes(150000):strip_icc()/canada-raises-quota-for-controversial-seal-hunt-80400438-5d20f981be8049bc954f8d986170c64d.jpg\n",
      "이미지가 성공적으로 다운로드되었습니다: ./seal/seal_208.jpg\n"
     ]
    },
    {
     "name": "stderr",
     "output_type": "stream",
     "text": [
      "c:\\Users\\MSI\\.conda\\envs\\Noh_gpu_env310\\lib\\site-packages\\urllib3\\connectionpool.py:1103: InsecureRequestWarning: Unverified HTTPS request is being made to host 'www.treehugger.com'. Adding certificate verification is strongly advised. See: https://urllib3.readthedocs.io/en/latest/advanced-usage.html#tls-warnings\n",
      "  warnings.warn(\n"
     ]
    },
    {
     "name": "stdout",
     "output_type": "stream",
     "text": [
      "https://nationaltoday.com/wp-content/uploads/2022/06/456840968-min-1-1200x834.jpg\n",
      "이미지가 성공적으로 다운로드되었습니다: ./seal/seal_209.jpg\n"
     ]
    },
    {
     "name": "stderr",
     "output_type": "stream",
     "text": [
      "c:\\Users\\MSI\\.conda\\envs\\Noh_gpu_env310\\lib\\site-packages\\urllib3\\connectionpool.py:1103: InsecureRequestWarning: Unverified HTTPS request is being made to host 'nationaltoday.com'. Adding certificate verification is strongly advised. See: https://urllib3.readthedocs.io/en/latest/advanced-usage.html#tls-warnings\n",
      "  warnings.warn(\n",
      "c:\\Users\\MSI\\.conda\\envs\\Noh_gpu_env310\\lib\\site-packages\\urllib3\\connectionpool.py:1103: InsecureRequestWarning: Unverified HTTPS request is being made to host 'nationaltoday.com'. Adding certificate verification is strongly advised. See: https://urllib3.readthedocs.io/en/latest/advanced-usage.html#tls-warnings\n",
      "  warnings.warn(\n"
     ]
    },
    {
     "name": "stdout",
     "output_type": "stream",
     "text": [
      "https://dictionary.cambridge.org/ko/images/thumb/seal_noun_002_32608.jpg?version=5.0.389\n"
     ]
    },
    {
     "name": "stderr",
     "output_type": "stream",
     "text": [
      "c:\\Users\\MSI\\.conda\\envs\\Noh_gpu_env310\\lib\\site-packages\\urllib3\\connectionpool.py:1103: InsecureRequestWarning: Unverified HTTPS request is being made to host 'dictionary.cambridge.org'. Adding certificate verification is strongly advised. See: https://urllib3.readthedocs.io/en/latest/advanced-usage.html#tls-warnings\n",
      "  warnings.warn(\n"
     ]
    },
    {
     "name": "stdout",
     "output_type": "stream",
     "text": [
      "이미지가 성공적으로 다운로드되었습니다: ./seal/seal_210.jpg\n",
      "https://ocean.si.edu/sites/default/files/styles/3_2_large/public/2023-11/GraphicFINAL.jpg.webp?itok=aW8u0TW3\n"
     ]
    },
    {
     "name": "stderr",
     "output_type": "stream",
     "text": [
      "c:\\Users\\MSI\\.conda\\envs\\Noh_gpu_env310\\lib\\site-packages\\urllib3\\connectionpool.py:1103: InsecureRequestWarning: Unverified HTTPS request is being made to host 'ocean.si.edu'. Adding certificate verification is strongly advised. See: https://urllib3.readthedocs.io/en/latest/advanced-usage.html#tls-warnings\n",
      "  warnings.warn(\n"
     ]
    },
    {
     "name": "stdout",
     "output_type": "stream",
     "text": [
      "이미지가 성공적으로 다운로드되었습니다: ./seal/seal_211.webp\n",
      "https://www.seacoastonline.com/gcdn/presto/2023/02/01/NPOH/1b2b5004-1eec-417a-ab99-8318df1103bd-sam.eagle1.jpg\n"
     ]
    },
    {
     "name": "stderr",
     "output_type": "stream",
     "text": [
      "c:\\Users\\MSI\\.conda\\envs\\Noh_gpu_env310\\lib\\site-packages\\urllib3\\connectionpool.py:1103: InsecureRequestWarning: Unverified HTTPS request is being made to host 'www.seacoastonline.com'. Adding certificate verification is strongly advised. See: https://urllib3.readthedocs.io/en/latest/advanced-usage.html#tls-warnings\n",
      "  warnings.warn(\n"
     ]
    },
    {
     "name": "stdout",
     "output_type": "stream",
     "text": [
      "이미지가 성공적으로 다운로드되었습니다: ./seal/seal_212.jpg\n",
      "https://i.natgeofe.com/n/681c6eda-4556-4fca-8fe3-1f53984ae568/HarpSeal_GOS_120317_2034_16x9.jpg?w=1200\n"
     ]
    },
    {
     "name": "stderr",
     "output_type": "stream",
     "text": [
      "c:\\Users\\MSI\\.conda\\envs\\Noh_gpu_env310\\lib\\site-packages\\urllib3\\connectionpool.py:1103: InsecureRequestWarning: Unverified HTTPS request is being made to host 'i.natgeofe.com'. Adding certificate verification is strongly advised. See: https://urllib3.readthedocs.io/en/latest/advanced-usage.html#tls-warnings\n",
      "  warnings.warn(\n"
     ]
    },
    {
     "name": "stdout",
     "output_type": "stream",
     "text": [
      "이미지가 성공적으로 다운로드되었습니다: ./seal/seal_213.jpg\n",
      "https://www.pbs.org/wnet/nature/files/2021/09/pexels-skitterphoto-23087-1-scaled-e1630516360213.jpg\n"
     ]
    },
    {
     "name": "stderr",
     "output_type": "stream",
     "text": [
      "c:\\Users\\MSI\\.conda\\envs\\Noh_gpu_env310\\lib\\site-packages\\urllib3\\connectionpool.py:1103: InsecureRequestWarning: Unverified HTTPS request is being made to host 'www.pbs.org'. Adding certificate verification is strongly advised. See: https://urllib3.readthedocs.io/en/latest/advanced-usage.html#tls-warnings\n",
      "  warnings.warn(\n"
     ]
    },
    {
     "name": "stdout",
     "output_type": "stream",
     "text": [
      "이미지가 성공적으로 다운로드되었습니다: ./seal/seal_214.jpg\n",
      "https://www.popsci.com/uploads/2023/12/14/seal-nose.jpeg?auto=webp&width=1440&height=810\n"
     ]
    },
    {
     "name": "stderr",
     "output_type": "stream",
     "text": [
      "c:\\Users\\MSI\\.conda\\envs\\Noh_gpu_env310\\lib\\site-packages\\urllib3\\connectionpool.py:1103: InsecureRequestWarning: Unverified HTTPS request is being made to host 'www.popsci.com'. Adding certificate verification is strongly advised. See: https://urllib3.readthedocs.io/en/latest/advanced-usage.html#tls-warnings\n",
      "  warnings.warn(\n"
     ]
    },
    {
     "name": "stdout",
     "output_type": "stream",
     "text": [
      "이미지가 성공적으로 다운로드되었습니다: ./seal/seal_215.jpeg\n",
      "https://www.popsci.com/uploads/2023/12/14/seal-nose.jpeg?auto=webp&width=1440&height=810\n",
      "이미지가 성공적으로 다운로드되었습니다: ./seal/seal_216.jpeg\n"
     ]
    },
    {
     "name": "stderr",
     "output_type": "stream",
     "text": [
      "c:\\Users\\MSI\\.conda\\envs\\Noh_gpu_env310\\lib\\site-packages\\urllib3\\connectionpool.py:1103: InsecureRequestWarning: Unverified HTTPS request is being made to host 'www.popsci.com'. Adding certificate verification is strongly advised. See: https://urllib3.readthedocs.io/en/latest/advanced-usage.html#tls-warnings\n",
      "  warnings.warn(\n"
     ]
    },
    {
     "name": "stdout",
     "output_type": "stream",
     "text": [
      "https://m.media-amazon.com/images/I/61hCRkXrA5L._AC_UF894,1000_QL80_.jpg\n"
     ]
    },
    {
     "name": "stderr",
     "output_type": "stream",
     "text": [
      "c:\\Users\\MSI\\.conda\\envs\\Noh_gpu_env310\\lib\\site-packages\\urllib3\\connectionpool.py:1103: InsecureRequestWarning: Unverified HTTPS request is being made to host 'm.media-amazon.com'. Adding certificate verification is strongly advised. See: https://urllib3.readthedocs.io/en/latest/advanced-usage.html#tls-warnings\n",
      "  warnings.warn(\n"
     ]
    },
    {
     "name": "stdout",
     "output_type": "stream",
     "text": [
      "이미지가 성공적으로 다운로드되었습니다: ./seal/seal_217.jpg\n",
      "https://www.thoughtco.com/thmb/IgmO0ORb7CcZeO2hjzrDZydY6dk=/1500x0/filters:no_upscale():max_bytes(150000):strip_icc()/83398504-56a5f6d93df78cf7728abcf6.jpg\n",
      "이미지가 성공적으로 다운로드되었습니다: ./seal/seal_218.jpg\n"
     ]
    },
    {
     "name": "stderr",
     "output_type": "stream",
     "text": [
      "c:\\Users\\MSI\\.conda\\envs\\Noh_gpu_env310\\lib\\site-packages\\urllib3\\connectionpool.py:1103: InsecureRequestWarning: Unverified HTTPS request is being made to host 'www.thoughtco.com'. Adding certificate verification is strongly advised. See: https://urllib3.readthedocs.io/en/latest/advanced-usage.html#tls-warnings\n",
      "  warnings.warn(\n"
     ]
    },
    {
     "name": "stdout",
     "output_type": "stream",
     "text": [
      "https://www.thoughtco.com/thmb/IgmO0ORb7CcZeO2hjzrDZydY6dk=/1500x0/filters:no_upscale():max_bytes(150000):strip_icc()/83398504-56a5f6d93df78cf7728abcf6.jpg\n",
      "이미지가 성공적으로 다운로드되었습니다: ./seal/seal_219.jpg\n"
     ]
    },
    {
     "name": "stderr",
     "output_type": "stream",
     "text": [
      "c:\\Users\\MSI\\.conda\\envs\\Noh_gpu_env310\\lib\\site-packages\\urllib3\\connectionpool.py:1103: InsecureRequestWarning: Unverified HTTPS request is being made to host 'www.thoughtco.com'. Adding certificate verification is strongly advised. See: https://urllib3.readthedocs.io/en/latest/advanced-usage.html#tls-warnings\n",
      "  warnings.warn(\n"
     ]
    },
    {
     "name": "stdout",
     "output_type": "stream",
     "text": [
      "https://nationalzoo.si.edu/sites/default/files/styles/wide/public/animals/grayseal-002_1.jpg?itok=pc-IH_Ci\n"
     ]
    },
    {
     "name": "stderr",
     "output_type": "stream",
     "text": [
      "c:\\Users\\MSI\\.conda\\envs\\Noh_gpu_env310\\lib\\site-packages\\urllib3\\connectionpool.py:1103: InsecureRequestWarning: Unverified HTTPS request is being made to host 'nationalzoo.si.edu'. Adding certificate verification is strongly advised. See: https://urllib3.readthedocs.io/en/latest/advanced-usage.html#tls-warnings\n",
      "  warnings.warn(\n"
     ]
    },
    {
     "name": "stdout",
     "output_type": "stream",
     "text": [
      "이미지가 성공적으로 다운로드되었습니다: ./seal/seal_220.jpg\n",
      "https://www.animalspot.net/wp-content/uploads/2022/04/Types-of-Seals.jpg\n"
     ]
    },
    {
     "name": "stderr",
     "output_type": "stream",
     "text": [
      "c:\\Users\\MSI\\.conda\\envs\\Noh_gpu_env310\\lib\\site-packages\\urllib3\\connectionpool.py:1103: InsecureRequestWarning: Unverified HTTPS request is being made to host 'www.animalspot.net'. Adding certificate verification is strongly advised. See: https://urllib3.readthedocs.io/en/latest/advanced-usage.html#tls-warnings\n",
      "  warnings.warn(\n"
     ]
    },
    {
     "name": "stdout",
     "output_type": "stream",
     "text": [
      "이미지가 성공적으로 다운로드되었습니다: ./seal/seal_221.jpg\n",
      "https://www.ecomare.nl/wp-content/uploads/2017/04/ill-gewone-zeehond-2010-10sw.jpg\n"
     ]
    },
    {
     "name": "stderr",
     "output_type": "stream",
     "text": [
      "c:\\Users\\MSI\\.conda\\envs\\Noh_gpu_env310\\lib\\site-packages\\urllib3\\connectionpool.py:1103: InsecureRequestWarning: Unverified HTTPS request is being made to host 'www.ecomare.nl'. Adding certificate verification is strongly advised. See: https://urllib3.readthedocs.io/en/latest/advanced-usage.html#tls-warnings\n",
      "  warnings.warn(\n"
     ]
    },
    {
     "name": "stdout",
     "output_type": "stream",
     "text": [
      "이미지가 성공적으로 다운로드되었습니다: ./seal/seal_222.jpg\n",
      "https://cdn.britannica.com/34/247334-050-1DCB9C8B/singer-Seal-2015.jpg\n"
     ]
    },
    {
     "name": "stderr",
     "output_type": "stream",
     "text": [
      "c:\\Users\\MSI\\.conda\\envs\\Noh_gpu_env310\\lib\\site-packages\\urllib3\\connectionpool.py:1103: InsecureRequestWarning: Unverified HTTPS request is being made to host 'cdn.britannica.com'. Adding certificate verification is strongly advised. See: https://urllib3.readthedocs.io/en/latest/advanced-usage.html#tls-warnings\n",
      "  warnings.warn(\n"
     ]
    },
    {
     "name": "stdout",
     "output_type": "stream",
     "text": [
      "이미지가 성공적으로 다운로드되었습니다: ./seal/seal_223.jpg\n",
      "https://facts.net/wp-content/uploads/2023/07/20-facts-about-seals-1689146765.jpg\n",
      "이미지가 성공적으로 다운로드되었습니다: ./seal/seal_224.jpg\n"
     ]
    },
    {
     "name": "stderr",
     "output_type": "stream",
     "text": [
      "c:\\Users\\MSI\\.conda\\envs\\Noh_gpu_env310\\lib\\site-packages\\urllib3\\connectionpool.py:1103: InsecureRequestWarning: Unverified HTTPS request is being made to host 'facts.net'. Adding certificate verification is strongly advised. See: https://urllib3.readthedocs.io/en/latest/advanced-usage.html#tls-warnings\n",
      "  warnings.warn(\n"
     ]
    },
    {
     "name": "stdout",
     "output_type": "stream",
     "text": [
      "https://facts.net/wp-content/uploads/2023/07/20-facts-about-seals-1689146765.jpg\n",
      "이미지가 성공적으로 다운로드되었습니다: ./seal/seal_225.jpg\n"
     ]
    },
    {
     "name": "stderr",
     "output_type": "stream",
     "text": [
      "c:\\Users\\MSI\\.conda\\envs\\Noh_gpu_env310\\lib\\site-packages\\urllib3\\connectionpool.py:1103: InsecureRequestWarning: Unverified HTTPS request is being made to host 'facts.net'. Adding certificate verification is strongly advised. See: https://urllib3.readthedocs.io/en/latest/advanced-usage.html#tls-warnings\n",
      "  warnings.warn(\n"
     ]
    },
    {
     "name": "stdout",
     "output_type": "stream",
     "text": [
      "https://yt3.googleusercontent.com/ytc/AIdro_lr2AgWdVNM0AKj9X7nwwMs1P7PC2KnTKH09IH5vAOdeg=s900-c-k-c0x00ffffff-no-rj\n"
     ]
    },
    {
     "name": "stderr",
     "output_type": "stream",
     "text": [
      "c:\\Users\\MSI\\.conda\\envs\\Noh_gpu_env310\\lib\\site-packages\\urllib3\\connectionpool.py:1103: InsecureRequestWarning: Unverified HTTPS request is being made to host 'yt3.googleusercontent.com'. Adding certificate verification is strongly advised. See: https://urllib3.readthedocs.io/en/latest/advanced-usage.html#tls-warnings\n",
      "  warnings.warn(\n"
     ]
    },
    {
     "name": "stdout",
     "output_type": "stream",
     "text": [
      "이미지가 성공적으로 다운로드되었습니다: ./seal/seal_226.AIdro_lr2AgWdVNM0AKj9X7nwwMs1P7PC2KnTKH09IH5vAOdeg=s900-c-k-c0x00ffffff-no-rj\n",
      "https://i.guim.co.uk/img/media/f39bda4bad23b7f197a1e90a1956c59dc63860be/0_182_2700_3375/master/2700.jpg?width=445&dpr=1&s=none\n"
     ]
    },
    {
     "name": "stderr",
     "output_type": "stream",
     "text": [
      "c:\\Users\\MSI\\.conda\\envs\\Noh_gpu_env310\\lib\\site-packages\\urllib3\\connectionpool.py:1103: InsecureRequestWarning: Unverified HTTPS request is being made to host 'i.guim.co.uk'. Adding certificate verification is strongly advised. See: https://urllib3.readthedocs.io/en/latest/advanced-usage.html#tls-warnings\n",
      "  warnings.warn(\n"
     ]
    },
    {
     "name": "stdout",
     "output_type": "stream",
     "text": [
      "이미지가 성공적으로 다운로드되었습니다: ./seal/seal_227.jpg\n",
      "https://www.the-sun.com/wp-content/uploads/sites/6/2020/08/CM-COMP-SEAL-HEIDI.jpg?strip=all&quality=100&w=1500&h=1000&crop=1\n"
     ]
    },
    {
     "name": "stderr",
     "output_type": "stream",
     "text": [
      "c:\\Users\\MSI\\.conda\\envs\\Noh_gpu_env310\\lib\\site-packages\\urllib3\\connectionpool.py:1103: InsecureRequestWarning: Unverified HTTPS request is being made to host 'www.the-sun.com'. Adding certificate verification is strongly advised. See: https://urllib3.readthedocs.io/en/latest/advanced-usage.html#tls-warnings\n",
      "  warnings.warn(\n"
     ]
    },
    {
     "name": "stdout",
     "output_type": "stream",
     "text": [
      "이미지가 성공적으로 다운로드되었습니다: ./seal/seal_228.jpg\n",
      "https://image.gala.de/20099770/t/2U/v16/w2048/r0/-/heidi-klum-seal--5072885-.jpg\n"
     ]
    },
    {
     "name": "stderr",
     "output_type": "stream",
     "text": [
      "c:\\Users\\MSI\\.conda\\envs\\Noh_gpu_env310\\lib\\site-packages\\urllib3\\connectionpool.py:1103: InsecureRequestWarning: Unverified HTTPS request is being made to host 'image.gala.de'. Adding certificate verification is strongly advised. See: https://urllib3.readthedocs.io/en/latest/advanced-usage.html#tls-warnings\n",
      "  warnings.warn(\n"
     ]
    },
    {
     "name": "stdout",
     "output_type": "stream",
     "text": [
      "이미지가 성공적으로 다운로드되었습니다: ./seal/seal_229.jpg\n",
      "https://upload.wikimedia.org/wikipedia/commons/thumb/c/ca/Hydrurga_leptonyx.JPG/640px-Hydrurga_leptonyx.JPG\n"
     ]
    },
    {
     "name": "stderr",
     "output_type": "stream",
     "text": [
      "c:\\Users\\MSI\\.conda\\envs\\Noh_gpu_env310\\lib\\site-packages\\urllib3\\connectionpool.py:1103: InsecureRequestWarning: Unverified HTTPS request is being made to host 'upload.wikimedia.org'. Adding certificate verification is strongly advised. See: https://urllib3.readthedocs.io/en/latest/advanced-usage.html#tls-warnings\n",
      "  warnings.warn(\n"
     ]
    },
    {
     "name": "stdout",
     "output_type": "stream",
     "text": [
      "이미지가 성공적으로 다운로드되었습니다: ./seal/seal_230.JPG\n",
      "https://www.animalspot.net/wp-content/uploads/2021/12/Seal.jpg\n"
     ]
    },
    {
     "name": "stderr",
     "output_type": "stream",
     "text": [
      "c:\\Users\\MSI\\.conda\\envs\\Noh_gpu_env310\\lib\\site-packages\\urllib3\\connectionpool.py:1103: InsecureRequestWarning: Unverified HTTPS request is being made to host 'www.animalspot.net'. Adding certificate verification is strongly advised. See: https://urllib3.readthedocs.io/en/latest/advanced-usage.html#tls-warnings\n",
      "  warnings.warn(\n"
     ]
    },
    {
     "name": "stdout",
     "output_type": "stream",
     "text": [
      "이미지가 성공적으로 다운로드되었습니다: ./seal/seal_231.jpg\n",
      "https://marinesanctuary.org/wp-content/uploads/2021/08/SBNMS_Gray-Seal_Matt-McIntosh_NOAA-e1630332861699.jpg\n"
     ]
    },
    {
     "name": "stderr",
     "output_type": "stream",
     "text": [
      "c:\\Users\\MSI\\.conda\\envs\\Noh_gpu_env310\\lib\\site-packages\\urllib3\\connectionpool.py:1103: InsecureRequestWarning: Unverified HTTPS request is being made to host 'marinesanctuary.org'. Adding certificate verification is strongly advised. See: https://urllib3.readthedocs.io/en/latest/advanced-usage.html#tls-warnings\n",
      "  warnings.warn(\n"
     ]
    },
    {
     "name": "stdout",
     "output_type": "stream",
     "text": [
      "이미지가 성공적으로 다운로드되었습니다: ./seal/seal_232.jpg\n",
      "https://cdn.britannica.com/34/247334-050-1DCB9C8B/singer-Seal-2015.jpg?w=300&h=169&c=crop\n"
     ]
    },
    {
     "name": "stderr",
     "output_type": "stream",
     "text": [
      "c:\\Users\\MSI\\.conda\\envs\\Noh_gpu_env310\\lib\\site-packages\\urllib3\\connectionpool.py:1103: InsecureRequestWarning: Unverified HTTPS request is being made to host 'cdn.britannica.com'. Adding certificate verification is strongly advised. See: https://urllib3.readthedocs.io/en/latest/advanced-usage.html#tls-warnings\n",
      "  warnings.warn(\n"
     ]
    },
    {
     "name": "stdout",
     "output_type": "stream",
     "text": [
      "이미지가 성공적으로 다운로드되었습니다: ./seal/seal_233.jpg\n",
      "https://www.antarctica.gov.au/site/assets/files/45640/weddell-seal.800x450.jpg?nc=b048\n"
     ]
    },
    {
     "name": "stderr",
     "output_type": "stream",
     "text": [
      "c:\\Users\\MSI\\.conda\\envs\\Noh_gpu_env310\\lib\\site-packages\\urllib3\\connectionpool.py:1103: InsecureRequestWarning: Unverified HTTPS request is being made to host 'www.antarctica.gov.au'. Adding certificate verification is strongly advised. See: https://urllib3.readthedocs.io/en/latest/advanced-usage.html#tls-warnings\n",
      "  warnings.warn(\n"
     ]
    },
    {
     "name": "stdout",
     "output_type": "stream",
     "text": [
      "이미지가 성공적으로 다운로드되었습니다: ./seal/seal_234.jpg\n",
      "https://d1jyxxz9imt9yb.cloudfront.net/medialib/3844/image/s768x1300/IFAW-9862_MMRR_2021-09-20_Chatham-CapeCod-MA_GraySealSurveying-HBOFilmCrew_StaceyHedman_5D_EDITED_326794.jpg\n",
      "이미지가 성공적으로 다운로드되었습니다: ./seal/seal_235.jpg\n"
     ]
    },
    {
     "name": "stderr",
     "output_type": "stream",
     "text": [
      "c:\\Users\\MSI\\.conda\\envs\\Noh_gpu_env310\\lib\\site-packages\\urllib3\\connectionpool.py:1103: InsecureRequestWarning: Unverified HTTPS request is being made to host 'd1jyxxz9imt9yb.cloudfront.net'. Adding certificate verification is strongly advised. See: https://urllib3.readthedocs.io/en/latest/advanced-usage.html#tls-warnings\n",
      "  warnings.warn(\n"
     ]
    },
    {
     "name": "stdout",
     "output_type": "stream",
     "text": [
      "https://d1jyxxz9imt9yb.cloudfront.net/medialib/3844/image/s768x1300/IFAW-9862_MMRR_2021-09-20_Chatham-CapeCod-MA_GraySealSurveying-HBOFilmCrew_StaceyHedman_5D_EDITED_326794.jpg\n",
      "이미지가 성공적으로 다운로드되었습니다: ./seal/seal_236.jpg\n"
     ]
    },
    {
     "name": "stderr",
     "output_type": "stream",
     "text": [
      "c:\\Users\\MSI\\.conda\\envs\\Noh_gpu_env310\\lib\\site-packages\\urllib3\\connectionpool.py:1103: InsecureRequestWarning: Unverified HTTPS request is being made to host 'd1jyxxz9imt9yb.cloudfront.net'. Adding certificate verification is strongly advised. See: https://urllib3.readthedocs.io/en/latest/advanced-usage.html#tls-warnings\n",
      "  warnings.warn(\n"
     ]
    },
    {
     "name": "stdout",
     "output_type": "stream",
     "text": [
      "https://storage.googleapis.com/oceanwide_web/media-dynamic/cache/widen_1600/media/default/0001/07/23220c6b19d7c8b58883bd5e7020492f28372ba0.jpeg\n"
     ]
    },
    {
     "name": "stderr",
     "output_type": "stream",
     "text": [
      "c:\\Users\\MSI\\.conda\\envs\\Noh_gpu_env310\\lib\\site-packages\\urllib3\\connectionpool.py:1103: InsecureRequestWarning: Unverified HTTPS request is being made to host 'storage.googleapis.com'. Adding certificate verification is strongly advised. See: https://urllib3.readthedocs.io/en/latest/advanced-usage.html#tls-warnings\n",
      "  warnings.warn(\n"
     ]
    },
    {
     "name": "stdout",
     "output_type": "stream",
     "text": [
      "이미지가 성공적으로 다운로드되었습니다: ./seal/seal_237.jpeg\n",
      "https://www.barrierreef.org/generated/1280w-3-2/clown-jpg-1664513530.jpg?1664513576\n"
     ]
    },
    {
     "name": "stderr",
     "output_type": "stream",
     "text": [
      "c:\\Users\\MSI\\.conda\\envs\\Noh_gpu_env310\\lib\\site-packages\\urllib3\\connectionpool.py:1103: InsecureRequestWarning: Unverified HTTPS request is being made to host 'www.barrierreef.org'. Adding certificate verification is strongly advised. See: https://urllib3.readthedocs.io/en/latest/advanced-usage.html#tls-warnings\n",
      "  warnings.warn(\n"
     ]
    },
    {
     "name": "stdout",
     "output_type": "stream",
     "text": [
      "이미지가 성공적으로 다운로드되었습니다: ./seal/seal_238.jpg\n",
      "https://static.independent.co.uk/2023/12/28/16/931941-14seal-web%20copy.jpg?quality=75&width=640&crop=3%3A2%2Csmart&auto=webp\n"
     ]
    },
    {
     "name": "stderr",
     "output_type": "stream",
     "text": [
      "c:\\Users\\MSI\\.conda\\envs\\Noh_gpu_env310\\lib\\site-packages\\urllib3\\connectionpool.py:1103: InsecureRequestWarning: Unverified HTTPS request is being made to host 'static.independent.co.uk'. Adding certificate verification is strongly advised. See: https://urllib3.readthedocs.io/en/latest/advanced-usage.html#tls-warnings\n",
      "  warnings.warn(\n"
     ]
    },
    {
     "name": "stdout",
     "output_type": "stream",
     "text": [
      "이미지가 성공적으로 다운로드되었습니다: ./seal/seal_239.jpg\n",
      "https://static.independent.co.uk/2023/12/28/16/931941-14seal-web%20copy.jpg?quality=75&width=640&crop=3%3A2%2Csmart&auto=webp\n",
      "이미지가 성공적으로 다운로드되었습니다: ./seal/seal_240.jpg\n"
     ]
    },
    {
     "name": "stderr",
     "output_type": "stream",
     "text": [
      "c:\\Users\\MSI\\.conda\\envs\\Noh_gpu_env310\\lib\\site-packages\\urllib3\\connectionpool.py:1103: InsecureRequestWarning: Unverified HTTPS request is being made to host 'static.independent.co.uk'. Adding certificate verification is strongly advised. See: https://urllib3.readthedocs.io/en/latest/advanced-usage.html#tls-warnings\n",
      "  warnings.warn(\n"
     ]
    },
    {
     "name": "stdout",
     "output_type": "stream",
     "text": [
      "https://hakaimagazine.com/wp-content/uploads/header-saving-seals.jpg\n"
     ]
    },
    {
     "name": "stderr",
     "output_type": "stream",
     "text": [
      "c:\\Users\\MSI\\.conda\\envs\\Noh_gpu_env310\\lib\\site-packages\\urllib3\\connectionpool.py:1103: InsecureRequestWarning: Unverified HTTPS request is being made to host 'hakaimagazine.com'. Adding certificate verification is strongly advised. See: https://urllib3.readthedocs.io/en/latest/advanced-usage.html#tls-warnings\n",
      "  warnings.warn(\n"
     ]
    },
    {
     "name": "stdout",
     "output_type": "stream",
     "text": [
      "이미지가 성공적으로 다운로드되었습니다: ./seal/seal_241.jpg\n",
      "https://img.fruugo.com/product/4/78/217454784_max.jpg\n",
      "이미지가 성공적으로 다운로드되었습니다: ./seal/seal_242.jpg\n"
     ]
    },
    {
     "name": "stderr",
     "output_type": "stream",
     "text": [
      "c:\\Users\\MSI\\.conda\\envs\\Noh_gpu_env310\\lib\\site-packages\\urllib3\\connectionpool.py:1103: InsecureRequestWarning: Unverified HTTPS request is being made to host 'img.fruugo.com'. Adding certificate verification is strongly advised. See: https://urllib3.readthedocs.io/en/latest/advanced-usage.html#tls-warnings\n",
      "  warnings.warn(\n"
     ]
    },
    {
     "name": "stdout",
     "output_type": "stream",
     "text": [
      "No images found with the given selector.\n",
      "이미지가 성공적으로 다운로드되었습니다: ./seal/seal_243.jpg\n"
     ]
    },
    {
     "name": "stderr",
     "output_type": "stream",
     "text": [
      "c:\\Users\\MSI\\.conda\\envs\\Noh_gpu_env310\\lib\\site-packages\\urllib3\\connectionpool.py:1103: InsecureRequestWarning: Unverified HTTPS request is being made to host 'img.fruugo.com'. Adding certificate verification is strongly advised. See: https://urllib3.readthedocs.io/en/latest/advanced-usage.html#tls-warnings\n",
      "  warnings.warn(\n"
     ]
    },
    {
     "name": "stdout",
     "output_type": "stream",
     "text": [
      "https://nt.global.ssl.fastly.net/binaries/content/gallery/website/national/regions/norfolk/places/horsey-windpump/library/young-grey-seals-horsey-beach-norfolk-1569001.jpg\n",
      "이미지가 성공적으로 다운로드되었습니다: ./seal/seal_244.jpg\n"
     ]
    },
    {
     "name": "stderr",
     "output_type": "stream",
     "text": [
      "c:\\Users\\MSI\\.conda\\envs\\Noh_gpu_env310\\lib\\site-packages\\urllib3\\connectionpool.py:1103: InsecureRequestWarning: Unverified HTTPS request is being made to host 'nt.global.ssl.fastly.net'. Adding certificate verification is strongly advised. See: https://urllib3.readthedocs.io/en/latest/advanced-usage.html#tls-warnings\n",
      "  warnings.warn(\n"
     ]
    },
    {
     "name": "stdout",
     "output_type": "stream",
     "text": [
      "https://nt.global.ssl.fastly.net/binaries/content/gallery/website/national/regions/norfolk/places/horsey-windpump/library/young-grey-seals-horsey-beach-norfolk-1569001.jpg\n",
      "이미지가 성공적으로 다운로드되었습니다: ./seal/seal_245.jpg\n"
     ]
    },
    {
     "name": "stderr",
     "output_type": "stream",
     "text": [
      "c:\\Users\\MSI\\.conda\\envs\\Noh_gpu_env310\\lib\\site-packages\\urllib3\\connectionpool.py:1103: InsecureRequestWarning: Unverified HTTPS request is being made to host 'nt.global.ssl.fastly.net'. Adding certificate verification is strongly advised. See: https://urllib3.readthedocs.io/en/latest/advanced-usage.html#tls-warnings\n",
      "  warnings.warn(\n"
     ]
    },
    {
     "name": "stdout",
     "output_type": "stream",
     "text": [
      "No images found with the given selector.\n"
     ]
    },
    {
     "name": "stderr",
     "output_type": "stream",
     "text": [
      "c:\\Users\\MSI\\.conda\\envs\\Noh_gpu_env310\\lib\\site-packages\\urllib3\\connectionpool.py:1103: InsecureRequestWarning: Unverified HTTPS request is being made to host 'nt.global.ssl.fastly.net'. Adding certificate verification is strongly advised. See: https://urllib3.readthedocs.io/en/latest/advanced-usage.html#tls-warnings\n",
      "  warnings.warn(\n"
     ]
    },
    {
     "name": "stdout",
     "output_type": "stream",
     "text": [
      "이미지가 성공적으로 다운로드되었습니다: ./seal/seal_246.jpg\n",
      "https://www.nature.scot/sites/default/files/styles/hero_banner_half_width/public/2017-07/Seal-D12822.jpg?h=fee4874d&itok=oVk7pO7j\n"
     ]
    },
    {
     "name": "stderr",
     "output_type": "stream",
     "text": [
      "c:\\Users\\MSI\\.conda\\envs\\Noh_gpu_env310\\lib\\site-packages\\urllib3\\connectionpool.py:1103: InsecureRequestWarning: Unverified HTTPS request is being made to host 'www.nature.scot'. Adding certificate verification is strongly advised. See: https://urllib3.readthedocs.io/en/latest/advanced-usage.html#tls-warnings\n",
      "  warnings.warn(\n"
     ]
    },
    {
     "name": "stdout",
     "output_type": "stream",
     "text": [
      "이미지가 성공적으로 다운로드되었습니다: ./seal/seal_247.jpg\n",
      "https://ichef.bbci.co.uk/news/976/cpsprodpb/82B6/production/_132126433_64da5160-5449-47fd-b62d-d49acb05bdf6.jpg\n"
     ]
    },
    {
     "name": "stderr",
     "output_type": "stream",
     "text": [
      "c:\\Users\\MSI\\.conda\\envs\\Noh_gpu_env310\\lib\\site-packages\\urllib3\\connectionpool.py:1103: InsecureRequestWarning: Unverified HTTPS request is being made to host 'ichef.bbci.co.uk'. Adding certificate verification is strongly advised. See: https://urllib3.readthedocs.io/en/latest/advanced-usage.html#tls-warnings\n",
      "  warnings.warn(\n"
     ]
    },
    {
     "name": "stdout",
     "output_type": "stream",
     "text": [
      "이미지가 성공적으로 다운로드되었습니다: ./seal/seal_248.jpg\n",
      "https://cdn.britannica.com/66/179866-138-28BA0335/Overview-gray-seal.jpg?w=800&h=450&c=crop\n"
     ]
    },
    {
     "name": "stderr",
     "output_type": "stream",
     "text": [
      "c:\\Users\\MSI\\.conda\\envs\\Noh_gpu_env310\\lib\\site-packages\\urllib3\\connectionpool.py:1103: InsecureRequestWarning: Unverified HTTPS request is being made to host 'cdn.britannica.com'. Adding certificate verification is strongly advised. See: https://urllib3.readthedocs.io/en/latest/advanced-usage.html#tls-warnings\n",
      "  warnings.warn(\n"
     ]
    },
    {
     "name": "stdout",
     "output_type": "stream",
     "text": [
      "이미지가 성공적으로 다운로드되었습니다: ./seal/seal_249.jpg\n",
      "https://cdn.britannica.com/66/179866-138-28BA0335/Overview-gray-seal.jpg?w=800&h=450&c=crop\n",
      "이미지가 성공적으로 다운로드되었습니다: ./seal/seal_250.jpg\n"
     ]
    },
    {
     "name": "stderr",
     "output_type": "stream",
     "text": [
      "c:\\Users\\MSI\\.conda\\envs\\Noh_gpu_env310\\lib\\site-packages\\urllib3\\connectionpool.py:1103: InsecureRequestWarning: Unverified HTTPS request is being made to host 'cdn.britannica.com'. Adding certificate verification is strongly advised. See: https://urllib3.readthedocs.io/en/latest/advanced-usage.html#tls-warnings\n",
      "  warnings.warn(\n"
     ]
    },
    {
     "name": "stdout",
     "output_type": "stream",
     "text": [
      "https://optimise2.assets-servd.host/maniacal-finch/production/animals/H_Seal_2022-05-31-181835_lzew.jpg?w=1200&h=630&q=82&auto=format&fit=clip&dm=1654021115&s=2359853da293b66f965ce9b2bba496a6\n"
     ]
    },
    {
     "name": "stderr",
     "output_type": "stream",
     "text": [
      "c:\\Users\\MSI\\.conda\\envs\\Noh_gpu_env310\\lib\\site-packages\\urllib3\\connectionpool.py:1103: InsecureRequestWarning: Unverified HTTPS request is being made to host 'optimise2.assets-servd.host'. Adding certificate verification is strongly advised. See: https://urllib3.readthedocs.io/en/latest/advanced-usage.html#tls-warnings\n",
      "  warnings.warn(\n"
     ]
    },
    {
     "name": "stdout",
     "output_type": "stream",
     "text": [
      "이미지가 성공적으로 다운로드되었습니다: ./seal/seal_251.jpg\n",
      "https://www.seacoastonline.com/gcdn/presto/2022/04/12/NPOH/54f0ee64-db04-4d83-adff-dff27b3ecaee-Harbor_Seal_Pup.JPG?width=1200&disable=upscale&format=pjpg&auto=webp\n"
     ]
    },
    {
     "name": "stderr",
     "output_type": "stream",
     "text": [
      "c:\\Users\\MSI\\.conda\\envs\\Noh_gpu_env310\\lib\\site-packages\\urllib3\\connectionpool.py:1103: InsecureRequestWarning: Unverified HTTPS request is being made to host 'www.seacoastonline.com'. Adding certificate verification is strongly advised. See: https://urllib3.readthedocs.io/en/latest/advanced-usage.html#tls-warnings\n",
      "  warnings.warn(\n"
     ]
    },
    {
     "name": "stdout",
     "output_type": "stream",
     "text": [
      "이미지가 성공적으로 다운로드되었습니다: ./seal/seal_252.JPG\n",
      "https://d1l18ops95qbzp.cloudfront.net/wp-content/2023/06/06175335/Screenshot-2023-06-06-at-5.13.15-PM.png\n",
      "이미지가 성공적으로 다운로드되었습니다: ./seal/seal_253.png\n"
     ]
    },
    {
     "name": "stderr",
     "output_type": "stream",
     "text": [
      "c:\\Users\\MSI\\.conda\\envs\\Noh_gpu_env310\\lib\\site-packages\\urllib3\\connectionpool.py:1103: InsecureRequestWarning: Unverified HTTPS request is being made to host 'd1l18ops95qbzp.cloudfront.net'. Adding certificate verification is strongly advised. See: https://urllib3.readthedocs.io/en/latest/advanced-usage.html#tls-warnings\n",
      "  warnings.warn(\n"
     ]
    },
    {
     "name": "stdout",
     "output_type": "stream",
     "text": [
      "No images found with the given selector.\n",
      "이미지가 성공적으로 다운로드되었습니다: ./seal/seal_254.png\n"
     ]
    },
    {
     "name": "stderr",
     "output_type": "stream",
     "text": [
      "c:\\Users\\MSI\\.conda\\envs\\Noh_gpu_env310\\lib\\site-packages\\urllib3\\connectionpool.py:1103: InsecureRequestWarning: Unverified HTTPS request is being made to host 'd1l18ops95qbzp.cloudfront.net'. Adding certificate verification is strongly advised. See: https://urllib3.readthedocs.io/en/latest/advanced-usage.html#tls-warnings\n",
      "  warnings.warn(\n"
     ]
    },
    {
     "name": "stdout",
     "output_type": "stream",
     "text": [
      "https://www.alaskasealife.org//uploads/animals/images/ringed_seal_2.jpg\n"
     ]
    },
    {
     "name": "stderr",
     "output_type": "stream",
     "text": [
      "c:\\Users\\MSI\\.conda\\envs\\Noh_gpu_env310\\lib\\site-packages\\urllib3\\connectionpool.py:1103: InsecureRequestWarning: Unverified HTTPS request is being made to host 'www.alaskasealife.org'. Adding certificate verification is strongly advised. See: https://urllib3.readthedocs.io/en/latest/advanced-usage.html#tls-warnings\n",
      "  warnings.warn(\n"
     ]
    },
    {
     "name": "stdout",
     "output_type": "stream",
     "text": [
      "이미지가 성공적으로 다운로드되었습니다: ./seal/seal_255.jpg\n",
      "https://upload.wikimedia.org/wikipedia/commons/3/33/Pusa_hispida_hispida_NOAA_1.jpg\n"
     ]
    },
    {
     "name": "stderr",
     "output_type": "stream",
     "text": [
      "c:\\Users\\MSI\\.conda\\envs\\Noh_gpu_env310\\lib\\site-packages\\urllib3\\connectionpool.py:1103: InsecureRequestWarning: Unverified HTTPS request is being made to host 'upload.wikimedia.org'. Adding certificate verification is strongly advised. See: https://urllib3.readthedocs.io/en/latest/advanced-usage.html#tls-warnings\n",
      "  warnings.warn(\n"
     ]
    },
    {
     "name": "stdout",
     "output_type": "stream",
     "text": [
      "이미지가 성공적으로 다운로드되었습니다: ./seal/seal_256.jpg\n",
      "https://images.csmonitor.com/csm/2020/10/1109550_1_1005-seal-maine_standard.jpg?alias=standard_900x600\n",
      "이미지가 성공적으로 다운로드되었습니다: ./seal/seal_257.jpg\n"
     ]
    },
    {
     "name": "stderr",
     "output_type": "stream",
     "text": [
      "c:\\Users\\MSI\\.conda\\envs\\Noh_gpu_env310\\lib\\site-packages\\urllib3\\connectionpool.py:1103: InsecureRequestWarning: Unverified HTTPS request is being made to host 'images.csmonitor.com'. Adding certificate verification is strongly advised. See: https://urllib3.readthedocs.io/en/latest/advanced-usage.html#tls-warnings\n",
      "  warnings.warn(\n"
     ]
    },
    {
     "name": "stdout",
     "output_type": "stream",
     "text": [
      "https://www.wildlifetrusts.org/sites/default/files/styles/node_hero_default/public/2018-02/Common%20Seal%20-%20Jamie%20Hall%20%282%29.JPG?h=facda69e&itok=42QZruAn\n"
     ]
    },
    {
     "name": "stderr",
     "output_type": "stream",
     "text": [
      "c:\\Users\\MSI\\.conda\\envs\\Noh_gpu_env310\\lib\\site-packages\\urllib3\\connectionpool.py:1103: InsecureRequestWarning: Unverified HTTPS request is being made to host 'www.wildlifetrusts.org'. Adding certificate verification is strongly advised. See: https://urllib3.readthedocs.io/en/latest/advanced-usage.html#tls-warnings\n",
      "  warnings.warn(\n"
     ]
    },
    {
     "name": "stdout",
     "output_type": "stream",
     "text": [
      "이미지가 성공적으로 다운로드되었습니다: ./seal/seal_258.JPG\n",
      "https://www.cornwallsealgroup.co.uk/wp-content/uploads/2015/04/Willow-the-three-week-old-seal-pup-1024x768.jpg\n"
     ]
    },
    {
     "name": "stderr",
     "output_type": "stream",
     "text": [
      "c:\\Users\\MSI\\.conda\\envs\\Noh_gpu_env310\\lib\\site-packages\\urllib3\\connectionpool.py:1103: InsecureRequestWarning: Unverified HTTPS request is being made to host 'www.cornwallsealgroup.co.uk'. Adding certificate verification is strongly advised. See: https://urllib3.readthedocs.io/en/latest/advanced-usage.html#tls-warnings\n",
      "  warnings.warn(\n"
     ]
    },
    {
     "name": "stdout",
     "output_type": "stream",
     "text": [
      "이미지가 성공적으로 다운로드되었습니다: ./seal/seal_259.jpg\n",
      "https://ichef.bbci.co.uk/news/1536/cpsprodpb/974d/live/9b1a3c70-ec2f-11ee-9d23-3be38fc3d32e.png\n"
     ]
    },
    {
     "name": "stderr",
     "output_type": "stream",
     "text": [
      "c:\\Users\\MSI\\.conda\\envs\\Noh_gpu_env310\\lib\\site-packages\\urllib3\\connectionpool.py:1103: InsecureRequestWarning: Unverified HTTPS request is being made to host 'ichef.bbci.co.uk'. Adding certificate verification is strongly advised. See: https://urllib3.readthedocs.io/en/latest/advanced-usage.html#tls-warnings\n",
      "  warnings.warn(\n"
     ]
    },
    {
     "name": "stdout",
     "output_type": "stream",
     "text": [
      "이미지가 성공적으로 다운로드되었습니다: ./seal/seal_260.png\n",
      "https://oceana.org/wp-content/uploads/sites/18/harp_seal_pup_shutterstock_142780513_credited-scaled.jpg\n"
     ]
    },
    {
     "name": "stderr",
     "output_type": "stream",
     "text": [
      "c:\\Users\\MSI\\.conda\\envs\\Noh_gpu_env310\\lib\\site-packages\\urllib3\\connectionpool.py:1103: InsecureRequestWarning: Unverified HTTPS request is being made to host 'oceana.org'. Adding certificate verification is strongly advised. See: https://urllib3.readthedocs.io/en/latest/advanced-usage.html#tls-warnings\n",
      "  warnings.warn(\n"
     ]
    },
    {
     "name": "stdout",
     "output_type": "stream",
     "text": [
      "이미지가 성공적으로 다운로드되었습니다: ./seal/seal_261.jpg\n",
      "https://media.istockphoto.com/id/1049444220/photo/seal-pup-on-the-beach-as-part-of-the-seal-colony-at-horsey-norfolk.jpg?s=612x612&w=0&k=20&c=wIyIIaer34HDLhqvmY-vRZ3ECwFLGRJYv8OOgsHg26A=\n",
      "이미지가 성공적으로 다운로드되었습니다: ./seal/seal_262.jpg\n"
     ]
    },
    {
     "name": "stderr",
     "output_type": "stream",
     "text": [
      "c:\\Users\\MSI\\.conda\\envs\\Noh_gpu_env310\\lib\\site-packages\\urllib3\\connectionpool.py:1103: InsecureRequestWarning: Unverified HTTPS request is being made to host 'media.istockphoto.com'. Adding certificate verification is strongly advised. See: https://urllib3.readthedocs.io/en/latest/advanced-usage.html#tls-warnings\n",
      "  warnings.warn(\n"
     ]
    },
    {
     "name": "stdout",
     "output_type": "stream",
     "text": [
      "https://i0.wp.com/whalescientists.com/wp-content/uploads/2022/03/19614153352_1ba4a47701_k.jpeg?resize=1024%2C683&ssl=1\n"
     ]
    },
    {
     "name": "stderr",
     "output_type": "stream",
     "text": [
      "c:\\Users\\MSI\\.conda\\envs\\Noh_gpu_env310\\lib\\site-packages\\urllib3\\connectionpool.py:1103: InsecureRequestWarning: Unverified HTTPS request is being made to host 'i0.wp.com'. Adding certificate verification is strongly advised. See: https://urllib3.readthedocs.io/en/latest/advanced-usage.html#tls-warnings\n",
      "  warnings.warn(\n"
     ]
    },
    {
     "name": "stdout",
     "output_type": "stream",
     "text": [
      "이미지가 성공적으로 다운로드되었습니다: ./seal/seal_263.jpeg\n",
      "https://www.delmarvanow.com/gcdn/-mm-/35a6bae8a33b5f7f73b68c516765584a2532a29c/c=0-672-4891-3435/local/-/media/2016/11/28/Salisbury/B9324989312Z.1_20161128125224_000_GVEGIR0DO.1-0.jpg?width=3200&height=1808&fit=crop&format=pjpg&auto=webp\n"
     ]
    },
    {
     "name": "stderr",
     "output_type": "stream",
     "text": [
      "c:\\Users\\MSI\\.conda\\envs\\Noh_gpu_env310\\lib\\site-packages\\urllib3\\connectionpool.py:1103: InsecureRequestWarning: Unverified HTTPS request is being made to host 'www.delmarvanow.com'. Adding certificate verification is strongly advised. See: https://urllib3.readthedocs.io/en/latest/advanced-usage.html#tls-warnings\n",
      "  warnings.warn(\n"
     ]
    },
    {
     "name": "stdout",
     "output_type": "stream",
     "text": [
      "이미지가 성공적으로 다운로드되었습니다: ./seal/seal_264.jpg\n",
      "https://www.marinemammalcenter.org/storage/app/uploads/public/892/cab/5d4/thumb__2400_0_0_0_auto.jpg\n"
     ]
    },
    {
     "name": "stderr",
     "output_type": "stream",
     "text": [
      "c:\\Users\\MSI\\.conda\\envs\\Noh_gpu_env310\\lib\\site-packages\\urllib3\\connectionpool.py:1103: InsecureRequestWarning: Unverified HTTPS request is being made to host 'www.marinemammalcenter.org'. Adding certificate verification is strongly advised. See: https://urllib3.readthedocs.io/en/latest/advanced-usage.html#tls-warnings\n",
      "  warnings.warn(\n"
     ]
    },
    {
     "name": "stdout",
     "output_type": "stream",
     "text": [
      "이미지가 성공적으로 다운로드되었습니다: ./seal/seal_265.jpg\n",
      "https://i.guim.co.uk/img/media/793a73bf1b08a17ad622836296e0fe4b14a44a60/31_0_2691_1615/master/2691.jpg?width=1200&height=1200&quality=85&auto=format&fit=crop&s=dca538ac4c1ada712b7fdd1b59d26953\n"
     ]
    },
    {
     "name": "stderr",
     "output_type": "stream",
     "text": [
      "c:\\Users\\MSI\\.conda\\envs\\Noh_gpu_env310\\lib\\site-packages\\urllib3\\connectionpool.py:1103: InsecureRequestWarning: Unverified HTTPS request is being made to host 'i.guim.co.uk'. Adding certificate verification is strongly advised. See: https://urllib3.readthedocs.io/en/latest/advanced-usage.html#tls-warnings\n",
      "  warnings.warn(\n"
     ]
    },
    {
     "name": "stdout",
     "output_type": "stream",
     "text": [
      "이미지가 성공적으로 다운로드되었습니다: ./seal/seal_266.jpg\n",
      "https://i.guim.co.uk/img/media/793a73bf1b08a17ad622836296e0fe4b14a44a60/31_0_2691_1615/master/2691.jpg?width=1200&height=1200&quality=85&auto=format&fit=crop&s=dca538ac4c1ada712b7fdd1b59d26953\n",
      "이미지가 성공적으로 다운로드되었습니다: ./seal/seal_267.jpg\n"
     ]
    },
    {
     "name": "stderr",
     "output_type": "stream",
     "text": [
      "c:\\Users\\MSI\\.conda\\envs\\Noh_gpu_env310\\lib\\site-packages\\urllib3\\connectionpool.py:1103: InsecureRequestWarning: Unverified HTTPS request is being made to host 'i.guim.co.uk'. Adding certificate verification is strongly advised. See: https://urllib3.readthedocs.io/en/latest/advanced-usage.html#tls-warnings\n",
      "  warnings.warn(\n"
     ]
    },
    {
     "name": "stdout",
     "output_type": "stream",
     "text": [
      "https://images.squarespace-cdn.com/content/v1/65272e44bd4f9022f58884d2/3ca685b4-f589-468e-9c8d-6c3206e93ee9/Untitled%2Bdesign%2B%2837%29.png\n",
      "이미지가 성공적으로 다운로드되었습니다: ./seal/seal_268.png\n"
     ]
    },
    {
     "name": "stderr",
     "output_type": "stream",
     "text": [
      "c:\\Users\\MSI\\.conda\\envs\\Noh_gpu_env310\\lib\\site-packages\\urllib3\\connectionpool.py:1103: InsecureRequestWarning: Unverified HTTPS request is being made to host 'images.squarespace-cdn.com'. Adding certificate verification is strongly advised. See: https://urllib3.readthedocs.io/en/latest/advanced-usage.html#tls-warnings\n",
      "  warnings.warn(\n"
     ]
    },
    {
     "name": "stdout",
     "output_type": "stream",
     "text": [
      "https://static.vecteezy.com/system/resources/previews/012/717/405/non_2x/cute-seal-animal-cartoon-vector.jpg\n",
      "이미지가 성공적으로 다운로드되었습니다: ./seal/seal_269.jpg\n"
     ]
    },
    {
     "name": "stderr",
     "output_type": "stream",
     "text": [
      "c:\\Users\\MSI\\.conda\\envs\\Noh_gpu_env310\\lib\\site-packages\\urllib3\\connectionpool.py:1103: InsecureRequestWarning: Unverified HTTPS request is being made to host 'static.vecteezy.com'. Adding certificate verification is strongly advised. See: https://urllib3.readthedocs.io/en/latest/advanced-usage.html#tls-warnings\n",
      "  warnings.warn(\n"
     ]
    },
    {
     "name": "stdout",
     "output_type": "stream",
     "text": [
      "https://www.seacoastsciencecenter.org/wp-content/uploads/2022/12/Harp-Seal-1.jpg\n"
     ]
    },
    {
     "name": "stderr",
     "output_type": "stream",
     "text": [
      "c:\\Users\\MSI\\.conda\\envs\\Noh_gpu_env310\\lib\\site-packages\\urllib3\\connectionpool.py:1103: InsecureRequestWarning: Unverified HTTPS request is being made to host 'www.seacoastsciencecenter.org'. Adding certificate verification is strongly advised. See: https://urllib3.readthedocs.io/en/latest/advanced-usage.html#tls-warnings\n",
      "  warnings.warn(\n"
     ]
    },
    {
     "name": "stdout",
     "output_type": "stream",
     "text": [
      "No images found with the given selector.\n"
     ]
    },
    {
     "name": "stderr",
     "output_type": "stream",
     "text": [
      "c:\\Users\\MSI\\.conda\\envs\\Noh_gpu_env310\\lib\\site-packages\\urllib3\\connectionpool.py:1103: InsecureRequestWarning: Unverified HTTPS request is being made to host 'www.seacoastsciencecenter.org'. Adding certificate verification is strongly advised. See: https://urllib3.readthedocs.io/en/latest/advanced-usage.html#tls-warnings\n",
      "  warnings.warn(\n"
     ]
    },
    {
     "name": "stdout",
     "output_type": "stream",
     "text": [
      "https://dehayf5mhw1h7.cloudfront.net/wp-content/uploads/sites/1491/2020/01/02142701/shutterstock_123973669.jpg\n"
     ]
    },
    {
     "name": "stderr",
     "output_type": "stream",
     "text": [
      "c:\\Users\\MSI\\.conda\\envs\\Noh_gpu_env310\\lib\\site-packages\\urllib3\\connectionpool.py:1103: InsecureRequestWarning: Unverified HTTPS request is being made to host 'dehayf5mhw1h7.cloudfront.net'. Adding certificate verification is strongly advised. See: https://urllib3.readthedocs.io/en/latest/advanced-usage.html#tls-warnings\n",
      "  warnings.warn(\n"
     ]
    },
    {
     "name": "stdout",
     "output_type": "stream",
     "text": [
      "이미지가 성공적으로 다운로드되었습니다: ./seal/seal_272.jpg\n",
      "https://dehayf5mhw1h7.cloudfront.net/wp-content/uploads/sites/1491/2020/01/02142701/shutterstock_123973669.jpg\n",
      "이미지가 성공적으로 다운로드되었습니다: ./seal/seal_273.jpg\n"
     ]
    },
    {
     "name": "stderr",
     "output_type": "stream",
     "text": [
      "c:\\Users\\MSI\\.conda\\envs\\Noh_gpu_env310\\lib\\site-packages\\urllib3\\connectionpool.py:1103: InsecureRequestWarning: Unverified HTTPS request is being made to host 'dehayf5mhw1h7.cloudfront.net'. Adding certificate verification is strongly advised. See: https://urllib3.readthedocs.io/en/latest/advanced-usage.html#tls-warnings\n",
      "  warnings.warn(\n"
     ]
    },
    {
     "name": "stdout",
     "output_type": "stream",
     "text": [
      "https://www.georgiaaquarium.org/wp-content/uploads/2018/10/seal-encounter-13.jpeg\n"
     ]
    },
    {
     "name": "stderr",
     "output_type": "stream",
     "text": [
      "c:\\Users\\MSI\\.conda\\envs\\Noh_gpu_env310\\lib\\site-packages\\urllib3\\connectionpool.py:1103: InsecureRequestWarning: Unverified HTTPS request is being made to host 'www.georgiaaquarium.org'. Adding certificate verification is strongly advised. See: https://urllib3.readthedocs.io/en/latest/advanced-usage.html#tls-warnings\n",
      "  warnings.warn(\n"
     ]
    },
    {
     "name": "stdout",
     "output_type": "stream",
     "text": [
      "이미지가 성공적으로 다운로드되었습니다: ./seal/seal_274.jpeg\n",
      "https://uploads.alaska.org/suppliers/attractions-and-points-of-interest/wildlife/marine-mammals/_800x418_crop_center-center_82_none/marine-mammals-harp-sealALL-RIGHTS-RESERVED.jpg?mtime=1586811337\n",
      "이미지가 성공적으로 다운로드되었습니다: ./seal/seal_275.jpg\n"
     ]
    },
    {
     "name": "stderr",
     "output_type": "stream",
     "text": [
      "c:\\Users\\MSI\\.conda\\envs\\Noh_gpu_env310\\lib\\site-packages\\urllib3\\connectionpool.py:1103: InsecureRequestWarning: Unverified HTTPS request is being made to host 'uploads.alaska.org'. Adding certificate verification is strongly advised. See: https://urllib3.readthedocs.io/en/latest/advanced-usage.html#tls-warnings\n",
      "  warnings.warn(\n"
     ]
    },
    {
     "name": "stdout",
     "output_type": "stream",
     "text": [
      "https://media.australian.museum/media/dd/images/new_zealand_fur_seal.ef2b360.width-800.dd7d016.jpg\n",
      "이미지가 성공적으로 다운로드되었습니다: ./seal/seal_276.jpg\n"
     ]
    },
    {
     "name": "stderr",
     "output_type": "stream",
     "text": [
      "c:\\Users\\MSI\\.conda\\envs\\Noh_gpu_env310\\lib\\site-packages\\urllib3\\connectionpool.py:1103: InsecureRequestWarning: Unverified HTTPS request is being made to host 'media.australian.museum'. Adding certificate verification is strongly advised. See: https://urllib3.readthedocs.io/en/latest/advanced-usage.html#tls-warnings\n",
      "  warnings.warn(\n"
     ]
    },
    {
     "name": "stdout",
     "output_type": "stream",
     "text": [
      "https://cdn.abcotvs.com/dip/images/12899755_030123-wabc-brick-seal-crossing-img.jpg?w=1600\n"
     ]
    },
    {
     "name": "stderr",
     "output_type": "stream",
     "text": [
      "c:\\Users\\MSI\\.conda\\envs\\Noh_gpu_env310\\lib\\site-packages\\urllib3\\connectionpool.py:1103: InsecureRequestWarning: Unverified HTTPS request is being made to host 'cdn.abcotvs.com'. Adding certificate verification is strongly advised. See: https://urllib3.readthedocs.io/en/latest/advanced-usage.html#tls-warnings\n",
      "  warnings.warn(\n"
     ]
    },
    {
     "name": "stdout",
     "output_type": "stream",
     "text": [
      "이미지가 성공적으로 다운로드되었습니다: ./seal/seal_277.jpg\n",
      "https://www.waddensea-worldheritage.org/sites/default/files/styles/main_image_landscape_crop/public/20-11-09_habour%20seals%20report_TTF_5200_0.JPG?itok=W1eZAlLm\n"
     ]
    },
    {
     "name": "stderr",
     "output_type": "stream",
     "text": [
      "c:\\Users\\MSI\\.conda\\envs\\Noh_gpu_env310\\lib\\site-packages\\urllib3\\connectionpool.py:1103: InsecureRequestWarning: Unverified HTTPS request is being made to host 'www.waddensea-worldheritage.org'. Adding certificate verification is strongly advised. See: https://urllib3.readthedocs.io/en/latest/advanced-usage.html#tls-warnings\n",
      "  warnings.warn(\n"
     ]
    },
    {
     "name": "stdout",
     "output_type": "stream",
     "text": [
      "이미지가 성공적으로 다운로드되었습니다: ./seal/seal_278.JPG\n",
      "https://www.fisheries.noaa.gov/s3//styles/full_width/s3/dam-migration/gray-seal-pup.jpg?itok=K_odDWAJ\n"
     ]
    },
    {
     "name": "stderr",
     "output_type": "stream",
     "text": [
      "c:\\Users\\MSI\\.conda\\envs\\Noh_gpu_env310\\lib\\site-packages\\urllib3\\connectionpool.py:1103: InsecureRequestWarning: Unverified HTTPS request is being made to host 'www.fisheries.noaa.gov'. Adding certificate verification is strongly advised. See: https://urllib3.readthedocs.io/en/latest/advanced-usage.html#tls-warnings\n",
      "  warnings.warn(\n",
      "c:\\Users\\MSI\\.conda\\envs\\Noh_gpu_env310\\lib\\site-packages\\urllib3\\connectionpool.py:1103: InsecureRequestWarning: Unverified HTTPS request is being made to host 'www.fisheries.noaa.gov'. Adding certificate verification is strongly advised. See: https://urllib3.readthedocs.io/en/latest/advanced-usage.html#tls-warnings\n",
      "  warnings.warn(\n"
     ]
    },
    {
     "name": "stdout",
     "output_type": "stream",
     "text": [
      "이미지가 성공적으로 다운로드되었습니다: ./seal/seal_279.jpg\n",
      "https://media-cldnry.s-nbcnews.com/image/upload/t_fit-760w,f_auto,q_auto:best/rockcms/2023-07/230725-endangered-pup-seal-death-ac-759p-fa72b7.jpg\n"
     ]
    },
    {
     "name": "stderr",
     "output_type": "stream",
     "text": [
      "c:\\Users\\MSI\\.conda\\envs\\Noh_gpu_env310\\lib\\site-packages\\urllib3\\connectionpool.py:1103: InsecureRequestWarning: Unverified HTTPS request is being made to host 'media-cldnry.s-nbcnews.com'. Adding certificate verification is strongly advised. See: https://urllib3.readthedocs.io/en/latest/advanced-usage.html#tls-warnings\n",
      "  warnings.warn(\n"
     ]
    },
    {
     "name": "stdout",
     "output_type": "stream",
     "text": [
      "이미지가 성공적으로 다운로드되었습니다: ./seal/seal_280.jpg\n",
      "https://thehill.com/wp-content/uploads/sites/2/2022/01/ca_harborseal_010722_getty.jpg\n"
     ]
    },
    {
     "name": "stderr",
     "output_type": "stream",
     "text": [
      "c:\\Users\\MSI\\.conda\\envs\\Noh_gpu_env310\\lib\\site-packages\\urllib3\\connectionpool.py:1103: InsecureRequestWarning: Unverified HTTPS request is being made to host 'thehill.com'. Adding certificate verification is strongly advised. See: https://urllib3.readthedocs.io/en/latest/advanced-usage.html#tls-warnings\n",
      "  warnings.warn(\n"
     ]
    },
    {
     "name": "stdout",
     "output_type": "stream",
     "text": [
      "이미지가 성공적으로 다운로드되었습니다: ./seal/seal_281.jpg\n",
      "https://www.paws.org/wp-content/uploads/2019/09/Harbor-Seal-16-2216-06302016-JM-10-1.jpg\n"
     ]
    },
    {
     "name": "stderr",
     "output_type": "stream",
     "text": [
      "c:\\Users\\MSI\\.conda\\envs\\Noh_gpu_env310\\lib\\site-packages\\urllib3\\connectionpool.py:1103: InsecureRequestWarning: Unverified HTTPS request is being made to host 'www.paws.org'. Adding certificate verification is strongly advised. See: https://urllib3.readthedocs.io/en/latest/advanced-usage.html#tls-warnings\n",
      "  warnings.warn(\n"
     ]
    },
    {
     "name": "stdout",
     "output_type": "stream",
     "text": [
      "이미지가 성공적으로 다운로드되었습니다: ./seal/seal_282.jpg\n",
      "https://people.com/thmb/oo2olrsPaoqQEuNNb5cf2UJLxYI=/1500x0/filters:no_upscale():max_bytes(150000):strip_icc():focal(494x419:496x421)/rescue-seal-2-e23a3123257c4f618a62f73749d1ecd3.jpg\n",
      "이미지가 성공적으로 다운로드되었습니다: ./seal/seal_283.jpg\n"
     ]
    },
    {
     "name": "stderr",
     "output_type": "stream",
     "text": [
      "c:\\Users\\MSI\\.conda\\envs\\Noh_gpu_env310\\lib\\site-packages\\urllib3\\connectionpool.py:1103: InsecureRequestWarning: Unverified HTTPS request is being made to host 'people.com'. Adding certificate verification is strongly advised. See: https://urllib3.readthedocs.io/en/latest/advanced-usage.html#tls-warnings\n",
      "  warnings.warn(\n"
     ]
    },
    {
     "name": "stdout",
     "output_type": "stream",
     "text": [
      "https://people.com/thmb/oo2olrsPaoqQEuNNb5cf2UJLxYI=/1500x0/filters:no_upscale():max_bytes(150000):strip_icc():focal(494x419:496x421)/rescue-seal-2-e23a3123257c4f618a62f73749d1ecd3.jpg\n",
      "이미지가 성공적으로 다운로드되었습니다: ./seal/seal_284.jpg\n"
     ]
    },
    {
     "name": "stderr",
     "output_type": "stream",
     "text": [
      "c:\\Users\\MSI\\.conda\\envs\\Noh_gpu_env310\\lib\\site-packages\\urllib3\\connectionpool.py:1103: InsecureRequestWarning: Unverified HTTPS request is being made to host 'people.com'. Adding certificate verification is strongly advised. See: https://urllib3.readthedocs.io/en/latest/advanced-usage.html#tls-warnings\n",
      "  warnings.warn(\n"
     ]
    },
    {
     "name": "stdout",
     "output_type": "stream",
     "text": [
      "https://live-production.wcms.abc-cdn.net.au/01c8ddd98866c3ae02e9b161660a5ac3?impolicy=wcms_crop_resize&cropH=495&cropW=881&xPos=120&yPos=20&width=862&height=485\n"
     ]
    },
    {
     "name": "stderr",
     "output_type": "stream",
     "text": [
      "c:\\Users\\MSI\\.conda\\envs\\Noh_gpu_env310\\lib\\site-packages\\urllib3\\connectionpool.py:1103: InsecureRequestWarning: Unverified HTTPS request is being made to host 'live-production.wcms.abc-cdn.net.au'. Adding certificate verification is strongly advised. See: https://urllib3.readthedocs.io/en/latest/advanced-usage.html#tls-warnings\n",
      "  warnings.warn(\n"
     ]
    },
    {
     "name": "stdout",
     "output_type": "stream",
     "text": [
      "이미지가 성공적으로 다운로드되었습니다: ./seal/seal_285.01c8ddd98866c3ae02e9b161660a5ac3\n",
      "https://www.nationaldaycalendar.com/.image/ar_16:9%2Cc_fill%2Ccs_srgb%2Cq_auto:eco%2Cw_1200/MTk5Nzc3NTM0NDY2OTkxMjA3/international-day-of-the-seal---march-22.png\n",
      "이미지가 성공적으로 다운로드되었습니다: ./seal/seal_286.png\n"
     ]
    },
    {
     "name": "stderr",
     "output_type": "stream",
     "text": [
      "c:\\Users\\MSI\\.conda\\envs\\Noh_gpu_env310\\lib\\site-packages\\urllib3\\connectionpool.py:1103: InsecureRequestWarning: Unverified HTTPS request is being made to host 'www.nationaldaycalendar.com'. Adding certificate verification is strongly advised. See: https://urllib3.readthedocs.io/en/latest/advanced-usage.html#tls-warnings\n",
      "  warnings.warn(\n"
     ]
    },
    {
     "name": "stdout",
     "output_type": "stream",
     "text": [
      "https://cdn.mos.cms.futurecdn.net/thPDvuZja5pKfa9YRHKoRn-1200-80.jpg\n"
     ]
    },
    {
     "name": "stderr",
     "output_type": "stream",
     "text": [
      "c:\\Users\\MSI\\.conda\\envs\\Noh_gpu_env310\\lib\\site-packages\\urllib3\\connectionpool.py:1103: InsecureRequestWarning: Unverified HTTPS request is being made to host 'cdn.mos.cms.futurecdn.net'. Adding certificate verification is strongly advised. See: https://urllib3.readthedocs.io/en/latest/advanced-usage.html#tls-warnings\n",
      "  warnings.warn(\n"
     ]
    },
    {
     "name": "stdout",
     "output_type": "stream",
     "text": [
      "이미지가 성공적으로 다운로드되었습니다: ./seal/seal_287.jpg\n",
      "https://neaq.org/wp-content/uploads/2023/06/harbor-seal-400x400-1.jpg\n"
     ]
    },
    {
     "name": "stderr",
     "output_type": "stream",
     "text": [
      "c:\\Users\\MSI\\.conda\\envs\\Noh_gpu_env310\\lib\\site-packages\\urllib3\\connectionpool.py:1103: InsecureRequestWarning: Unverified HTTPS request is being made to host 'neaq.org'. Adding certificate verification is strongly advised. See: https://urllib3.readthedocs.io/en/latest/advanced-usage.html#tls-warnings\n",
      "  warnings.warn(\n"
     ]
    },
    {
     "name": "stdout",
     "output_type": "stream",
     "text": [
      "이미지가 성공적으로 다운로드되었습니다: ./seal/seal_288.jpg\n",
      "https://nammco.no/wp-content/uploads/2016/11/harbor_seal_phoca_vitulina_at_magdalen_fjord_svalbard_1-by-aweith-own-work-cc-by-sa-4.0-e1484819055829.jpg\n"
     ]
    },
    {
     "name": "stderr",
     "output_type": "stream",
     "text": [
      "c:\\Users\\MSI\\.conda\\envs\\Noh_gpu_env310\\lib\\site-packages\\urllib3\\connectionpool.py:1103: InsecureRequestWarning: Unverified HTTPS request is being made to host 'nammco.no'. Adding certificate verification is strongly advised. See: https://urllib3.readthedocs.io/en/latest/advanced-usage.html#tls-warnings\n",
      "  warnings.warn(\n"
     ]
    },
    {
     "name": "stdout",
     "output_type": "stream",
     "text": [
      "이미지가 성공적으로 다운로드되었습니다: ./seal/seal_289.jpg\n",
      "https://storage.googleapis.com/oceanwide_web/media-dynamic/cache/widen_900/v2-gallery_media/media608166852f3a9746232103.jpg\n",
      "이미지가 성공적으로 다운로드되었습니다: ./seal/seal_290.jpg\n"
     ]
    },
    {
     "name": "stderr",
     "output_type": "stream",
     "text": [
      "c:\\Users\\MSI\\.conda\\envs\\Noh_gpu_env310\\lib\\site-packages\\urllib3\\connectionpool.py:1103: InsecureRequestWarning: Unverified HTTPS request is being made to host 'storage.googleapis.com'. Adding certificate verification is strongly advised. See: https://urllib3.readthedocs.io/en/latest/advanced-usage.html#tls-warnings\n",
      "  warnings.warn(\n"
     ]
    },
    {
     "name": "stdout",
     "output_type": "stream",
     "text": [
      "https://images.squarespace-cdn.com/content/v1/5b071ddea2772cebc1662831/1530058848419-43W0XNS36596083QX817/Harbor-Seal-Pup-July-09-B.-Friel.jpg\n",
      "이미지가 성공적으로 다운로드되었습니다: ./seal/seal_291.jpg\n"
     ]
    },
    {
     "name": "stderr",
     "output_type": "stream",
     "text": [
      "c:\\Users\\MSI\\.conda\\envs\\Noh_gpu_env310\\lib\\site-packages\\urllib3\\connectionpool.py:1103: InsecureRequestWarning: Unverified HTTPS request is being made to host 'images.squarespace-cdn.com'. Adding certificate verification is strongly advised. See: https://urllib3.readthedocs.io/en/latest/advanced-usage.html#tls-warnings\n",
      "  warnings.warn(\n"
     ]
    },
    {
     "name": "stdout",
     "output_type": "stream",
     "text": [
      "No images found with the given selector.\n",
      "이미지가 성공적으로 다운로드되었습니다: ./seal/seal_292.jpg\n"
     ]
    },
    {
     "name": "stderr",
     "output_type": "stream",
     "text": [
      "c:\\Users\\MSI\\.conda\\envs\\Noh_gpu_env310\\lib\\site-packages\\urllib3\\connectionpool.py:1103: InsecureRequestWarning: Unverified HTTPS request is being made to host 'images.squarespace-cdn.com'. Adding certificate verification is strongly advised. See: https://urllib3.readthedocs.io/en/latest/advanced-usage.html#tls-warnings\n",
      "  warnings.warn(\n"
     ]
    },
    {
     "name": "stdout",
     "output_type": "stream",
     "text": [
      "https://d3ftabzjnxfdg6.cloudfront.net/app/uploads/2021/02/19-07-13_8644-BB-web-1024x585.jpg\n",
      "이미지가 성공적으로 다운로드되었습니다: ./seal/seal_293.jpg\n"
     ]
    },
    {
     "name": "stderr",
     "output_type": "stream",
     "text": [
      "c:\\Users\\MSI\\.conda\\envs\\Noh_gpu_env310\\lib\\site-packages\\urllib3\\connectionpool.py:1103: InsecureRequestWarning: Unverified HTTPS request is being made to host 'd3ftabzjnxfdg6.cloudfront.net'. Adding certificate verification is strongly advised. See: https://urllib3.readthedocs.io/en/latest/advanced-usage.html#tls-warnings\n",
      "  warnings.warn(\n"
     ]
    },
    {
     "name": "stdout",
     "output_type": "stream",
     "text": [
      "https://worldanimalfoundation.org/wp-content/uploads/2022/09/Evolution-of-the-Seal-1.jpg\n"
     ]
    },
    {
     "name": "stderr",
     "output_type": "stream",
     "text": [
      "c:\\Users\\MSI\\.conda\\envs\\Noh_gpu_env310\\lib\\site-packages\\urllib3\\connectionpool.py:1103: InsecureRequestWarning: Unverified HTTPS request is being made to host 'worldanimalfoundation.org'. Adding certificate verification is strongly advised. See: https://urllib3.readthedocs.io/en/latest/advanced-usage.html#tls-warnings\n",
      "  warnings.warn(\n"
     ]
    },
    {
     "name": "stdout",
     "output_type": "stream",
     "text": [
      "이미지가 성공적으로 다운로드되었습니다: ./seal/seal_294.jpg\n",
      "https://worldanimalfoundation.org/wp-content/uploads/2022/09/Evolution-of-the-Seal-1.jpg\n"
     ]
    },
    {
     "name": "stderr",
     "output_type": "stream",
     "text": [
      "c:\\Users\\MSI\\.conda\\envs\\Noh_gpu_env310\\lib\\site-packages\\urllib3\\connectionpool.py:1103: InsecureRequestWarning: Unverified HTTPS request is being made to host 'worldanimalfoundation.org'. Adding certificate verification is strongly advised. See: https://urllib3.readthedocs.io/en/latest/advanced-usage.html#tls-warnings\n",
      "  warnings.warn(\n"
     ]
    },
    {
     "name": "stdout",
     "output_type": "stream",
     "text": [
      "이미지가 성공적으로 다운로드되었습니다: ./seal/seal_295.jpg\n",
      "https://www.thatsmine.com/wp-content/uploads/Wallstories_Seal_family_500x500.jpg\n"
     ]
    },
    {
     "name": "stderr",
     "output_type": "stream",
     "text": [
      "c:\\Users\\MSI\\.conda\\envs\\Noh_gpu_env310\\lib\\site-packages\\urllib3\\connectionpool.py:1103: InsecureRequestWarning: Unverified HTTPS request is being made to host 'www.thatsmine.com'. Adding certificate verification is strongly advised. See: https://urllib3.readthedocs.io/en/latest/advanced-usage.html#tls-warnings\n",
      "  warnings.warn(\n"
     ]
    },
    {
     "name": "stdout",
     "output_type": "stream",
     "text": [
      "이미지가 성공적으로 다운로드되었습니다: ./seal/seal_296.jpg\n",
      "https://pyxis.nymag.com/v1/imgs/b31/021/385e01ee39fa9c6ae5913289b3041fd3a0-7-seal-nose-eel.rsocial.w1200.jpg\n"
     ]
    },
    {
     "name": "stderr",
     "output_type": "stream",
     "text": [
      "c:\\Users\\MSI\\.conda\\envs\\Noh_gpu_env310\\lib\\site-packages\\urllib3\\connectionpool.py:1103: InsecureRequestWarning: Unverified HTTPS request is being made to host 'pyxis.nymag.com'. Adding certificate verification is strongly advised. See: https://urllib3.readthedocs.io/en/latest/advanced-usage.html#tls-warnings\n",
      "  warnings.warn(\n"
     ]
    },
    {
     "name": "stdout",
     "output_type": "stream",
     "text": [
      "이미지가 성공적으로 다운로드되었습니다: ./seal/seal_297.jpg\n"
     ]
    }
   ],
   "source": [
    "# 6-5. 최종 : 다음 이미지 클릭하며, 원본 이미지 저장\n",
    "for count in range(target_count):\n",
    "    # 다음 이미지 버튼 요소 가져오기\n",
    "    next_div = driver.find_elements(By.CSS_SELECTOR, \"div.HJRshd\")\n",
    "    target_div = next_div[-2] \n",
    "\n",
    "    # 다음 이미지 버튼 클릭\n",
    "    buttons = target_div.find_elements(By.TAG_NAME, \"button\")\n",
    "    next_btn = buttons[1]\n",
    "    next_btn.click() # 다음 이미지 버튼 클릭\n",
    "    try:\n",
    "        elements = driver.find_elements(By.CSS_SELECTOR, \"img.sFlh5c.pT0Scc.iPVvYb\")\n",
    "        if elements:\n",
    "            target_img = elements[-1]\n",
    "            target_img_link = target_img.get_attribute(\"src\")\n",
    "            print(target_img_link)\n",
    "        else:\n",
    "            print(\"No images found with the given selector.\")\n",
    "        # 이미지 데이터를 GET 요청으로 가져오기 - header 정보를 넣어 주는 것이 좋습니다.\n",
    "        headers = {\n",
    "            'User-Agent': 'Mozilla/5.0 (Windows NT 10.0; Win64; x64) AppleWebKit/537.36 (KHTML, like Gecko) Chrome/58.0.3029.110 Safari/537.3'\n",
    "        }\n",
    "        response = requests.get(target_img_link, verify=False,headers=headers)\n",
    "        # 요청이 성공적인 경우, 이미지를 로컬 파일로 저장\n",
    "        if response.status_code == 200:\n",
    "            # 이미지 확장자 확인 및 쿼리 파라미터 제거를 위한 작업\n",
    "            path = urlparse(target_img_link).path\n",
    "            decoded_path = unquote(path)\n",
    "            file_name = decoded_path.split(\"/\")[-1]\n",
    "            file_ext = file_name.split(\".\")[-1]\n",
    "            save_name = f\"{save_dir}{img_name}_{count+198}.{file_ext}\"\n",
    "            # 바이너리 쓰기 모드로 파일 열기\n",
    "            with open(save_name, 'wb') as file:\n",
    "                file.write(response.content)\n",
    "            print(f\"이미지가 성공적으로 다운로드되었습니다: {save_name}\")\n",
    "        else:\n",
    "            print(f\"{response.status_code}_이미지 다운로드 실패\")\n",
    "        time.sleep(2)\n",
    "    except:\n",
    "        pass"
   ]
  },
  {
   "cell_type": "code",
   "execution_count": null,
   "metadata": {},
   "outputs": [],
   "source": []
  }
 ],
 "metadata": {
  "kernelspec": {
   "display_name": "sesac2024",
   "language": "python",
   "name": "python3"
  },
  "language_info": {
   "codemirror_mode": {
    "name": "ipython",
    "version": 3
   },
   "file_extension": ".py",
   "mimetype": "text/x-python",
   "name": "python",
   "nbconvert_exporter": "python",
   "pygments_lexer": "ipython3",
   "version": "3.10.14"
  }
 },
 "nbformat": 4,
 "nbformat_minor": 2
}
