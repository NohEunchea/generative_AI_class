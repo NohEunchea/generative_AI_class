{
 "cells": [
  {
   "cell_type": "code",
   "execution_count": 16,
   "metadata": {},
   "outputs": [],
   "source": [
    "# 1. 모듈 임포트\n",
    "import time\n",
    "from selenium import webdriver\n",
    "from selenium.webdriver.chrome.service import Service\n",
    "from webdriver_manager.chrome import ChromeDriverManager\n",
    "from selenium.webdriver.common.by import By\n",
    "from selenium.webdriver import Keys"
   ]
  },
  {
   "cell_type": "code",
   "execution_count": 17,
   "metadata": {},
   "outputs": [],
   "source": [
    "# 2. 드라이버 옵션 설정\n",
    "chrom_options = webdriver.ChromeOptions()\n",
    "chrom_options.add_experimental_option('detach', True)\n",
    "driver = webdriver.Chrome(service=Service(ChromeDriverManager().install()), \n",
    "                          options=chrom_options)"
   ]
  },
  {
   "cell_type": "code",
   "execution_count": 18,
   "metadata": {},
   "outputs": [],
   "source": [
    "# 3. 브라우저 띄우기\n",
    "url = 'https://www.youtube.com/watch?v=jNQXAC9IVRw'\n",
    "driver.get(url)\n",
    "time.sleep(2)"
   ]
  },
  {
   "cell_type": "code",
   "execution_count": 19,
   "metadata": {},
   "outputs": [],
   "source": [
    "# 4. 일시 정지 버튼 클릭\n",
    "# 클래스명이 두개인 경우, .으로 시작하도록 합니다. \n",
    "play_button = driver.find_element(By.CSS_SELECTOR, \".ytp-play-button.ytp-button\")\n",
    "play_button.click()"
   ]
  },
  {
   "cell_type": "code",
   "execution_count": 20,
   "metadata": {},
   "outputs": [],
   "source": [
    "# 5. 댓글 수집\n",
    "comment_list = [] #\n",
    "content_text = driver.find_elements(By.ID, \"content-text\")\n",
    "for x in content_text:\n",
    "    comment_list.append(x.text)"
   ]
  },
  {
   "cell_type": "code",
   "execution_count": 21,
   "metadata": {},
   "outputs": [
    {
     "data": {
      "text/plain": [
       "[]"
      ]
     },
     "execution_count": 21,
     "metadata": {},
     "output_type": "execute_result"
    }
   ],
   "source": [
    "comment_list # 처음에는 20개만 수집(화면에 보이는 것만)"
   ]
  },
  {
   "cell_type": "code",
   "execution_count": 22,
   "metadata": {},
   "outputs": [
    {
     "name": "stdout",
     "output_type": "stream",
     "text": [
      "0 만큼 수집하였습니다.\n",
      "7 만큼 수집하였습니다.\n",
      "31 만큼 수집하였습니다.\n",
      "60 만큼 수집하였습니다.\n",
      "80 만큼 수집하였습니다.\n",
      "100 만큼 수집하였습니다.\n",
      "120 만큼 수집하였습니다.\n",
      "140 만큼 수집하였습니다.\n",
      "160 만큼 수집하였습니다.\n",
      "180 만큼 수집하였습니다.\n",
      "200 만큼 수집하였습니다.\n"
     ]
    }
   ],
   "source": [
    "# 6. 스크롤 내려서 댓글 갯수 확보\n",
    "comment_number = 200\n",
    "while True:\n",
    "    content_text = driver.find_elements(By.ID, \"content-text\")\n",
    "    content_number = len(content_text)\n",
    "    print(content_number, \"만큼 수집하였습니다.\")\n",
    "    if content_number < comment_number:\n",
    "        driver.find_element(By.CSS_SELECTOR, 'body').send_keys(Keys.END)\n",
    "        time.sleep(1)\n",
    "    else:\n",
    "        break\n",
    "comment_list = []\n",
    "for x in content_text:\n",
    "    comment_list.append(x.text)"
   ]
  },
  {
   "cell_type": "code",
   "execution_count": 23,
   "metadata": {},
   "outputs": [
    {
     "data": {
      "text/plain": [
       "200"
      ]
     },
     "execution_count": 23,
     "metadata": {},
     "output_type": "execute_result"
    }
   ],
   "source": [
    "len(comment_list)"
   ]
  }
 ],
 "metadata": {
  "kernelspec": {
   "display_name": "sesac2024",
   "language": "python",
   "name": "python3"
  },
  "language_info": {
   "codemirror_mode": {
    "name": "ipython",
    "version": 3
   },
   "file_extension": ".py",
   "mimetype": "text/x-python",
   "name": "python",
   "nbconvert_exporter": "python",
   "pygments_lexer": "ipython3",
   "version": "3.10.13"
  }
 },
 "nbformat": 4,
 "nbformat_minor": 2
}
