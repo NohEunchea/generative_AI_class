{
 "cells": [
  {
   "cell_type": "code",
   "execution_count": 1,
   "metadata": {},
   "outputs": [],
   "source": [
    "# 1. 모듈 임포트\n",
    "import time\n",
    "from selenium import webdriver\n",
    "from selenium.webdriver.chrome.service import Service\n",
    "from webdriver_manager.chrome import ChromeDriverManager\n",
    "from selenium.webdriver.common.by import By\n",
    "from selenium.webdriver import Keys"
   ]
  },
  {
   "cell_type": "code",
   "execution_count": 2,
   "metadata": {},
   "outputs": [],
   "source": [
    "# 2. 드라이버 옵션 설정\n",
    "chrom_options = webdriver.ChromeOptions()\n",
    "chrom_options.add_experimental_option('detach', True)\n",
    "driver = webdriver.Chrome(service=Service(ChromeDriverManager().install()), \n",
    "                          options=chrom_options)"
   ]
  },
  {
   "cell_type": "code",
   "execution_count": 3,
   "metadata": {},
   "outputs": [],
   "source": [
    "# 3. 브라우저 띄우기\n",
    "url = 'https://www.youtube.com/watch?v=jNQXAC9IVRw'\n",
    "driver.get(url)\n",
    "time.sleep(2)"
   ]
  },
  {
   "cell_type": "code",
   "execution_count": 4,
   "metadata": {},
   "outputs": [],
   "source": [
    "# 4. 일시 정지 버튼 클릭\n",
    "# 클래스명이 두개인 경우, .으로 시작하도록 합니다. \n",
    "play_button = driver.find_element(By.CSS_SELECTOR, \".ytp-play-button.ytp-button\")\n",
    "play_button.click()"
   ]
  },
  {
   "cell_type": "code",
   "execution_count": 34,
   "metadata": {},
   "outputs": [],
   "source": [
    "# 5. 댓글 수집\n",
    "comment_list = [] #\n",
    "content_text = driver.find_elements(By.ID, \"comment-content\")\n",
    "for x in content_text:\n",
    "    comment_list.append(x.text)"
   ]
  },
  {
   "cell_type": "code",
   "execution_count": 35,
   "metadata": {},
   "outputs": [
    {
     "data": {
      "text/plain": [
       "[\"We're so honored that the first ever YouTube video was filmed here!\",\n",
       " 'This video is a timeless classic that will always hold a special place in the history of YouTube. Truly iconic!',\n",
       " 'After 18 years, I still love this amazing first YouTube video. Thank you Jawed and YouTube members for creating such a great social networking platform for us. What a great masterpiece ',\n",
       " 'This video began 18 years of a journey nobody would ever forget',\n",
       " 'Thank you jawed for making this platform. Really appreciate your vision that u had for the last 18 years and also for helping people become CREATORS to entertain the world.  ',\n",
       " 'Jawed is the first legend on YouTube and will NEVER be forgotten ',\n",
       " 'We’re here 18 years later yet this legendary video is still remembered and a big part of YouTube',\n",
       " 'It is incredible that Jawed has reached 4 Million with one of the first YouTube videos, an inspiration showing that nothing is impossible despite only having hands, but with hands, you invent the future',\n",
       " 'This is the type of videos I love short , simple and straight to the point. I wish people made videos like this today.',\n",
       " 'This is a historic artifact now.',\n",
       " 'Its kind of funny how this video is still more entertaining that 80% of the slop on this platform nowadays. Its short, straight to the point, and Jawed doesnt waste his time with a long flashy intro.',\n",
       " 'This video is a CLASSIC that will always hold a very special place in the history of YouTube',\n",
       " 'We need more Jawed videos like this!  C\\'mon it has almost been 20 years of this video. - I mean it is nostalgic, but make a \"Me At The Zoo\" remake for the 20th Anniversary of YouTube next year or something lol! :)',\n",
       " \"It's an honor to still be able to watch the oldest video on YouTube.\",\n",
       " 'This is still hitting the algorithm after 15 years...',\n",
       " 'The most iconic video in history, filmed in 2005. One of the greatest videos that has been made on YouTube. Truly a legendary video that was created on YouTube.',\n",
       " \"This is the birth of YouTube.. in 2006 but now it's 2024  this vid is very special for all of us...\\nJawed is a legend\\nThis vid is older than me\\n자세히 보기\",\n",
       " '\"a great reminder of how far the world has come, yet the people of it stay the same in the best ways.\" -a wise person. ',\n",
       " 'Хорошие все же времена были',\n",
       " '18 years, 18! This was the beginning of and era that still stands',\n",
       " 'Really smart way of using the description, I like it',\n",
       " \"my favorite part about this is it still seems like something that could be made today. The slightly awkward, maybe intentionally so non-joke that's still somehow funnier than a joke would have been\",\n",
       " 'Hi everyone! I think this video deserves to be included in the Guinness World Records, because THIS IS THE FIRST VIDEO ON A POPULAR SITE! This is simply grandiose, this man is now about ALMOST 4 DECADES OF LIFE! God, this is crazy, THIS IS JUST CRAZY\\n자세히 보기',\n",
       " \"We're so honoured that the first ever YouTube video was filmed here!\",\n",
       " 'Очень хочется увидеть как изменился этот человек за 18 лет.\\nЯ сейчас представил ютуб... где было лишь 1 видео и это точно было большим достижением-первым снять видео\\n자세히 보기',\n",
       " 'wow este video sigue siendo impresionante despues de 18 años',\n",
       " 'History made in 20 seconds',\n",
       " 'Quando ele publicou esse vídeo, será que ele tinha a dimensão da revolução que essa plataforma de vídeos impactaria na vida das pessoas? Pois o YouTube mudou a nossa forma de assistir televisão  e hoje essa plataforma  é algo imprescindível nas nossas vidas\\n자세히 보기',\n",
       " 'I just wanted to say that  If you have suicidal thoughts or mental trauma or even if you don’t or just going through a thought time or neither just know that I love you and your loved by many and people and if you think that might not be loved by your family or people you know or just anyone just know they might even love you even more than your think. You have a purpose you are beautiful, kind, just be yourself and go after what you want to do. You are amazing, you got this, and things will get better in your life, you will do great things, and so many people and I are proud of you. Your future is bigger than your past and your past does not define you are awesome and a warrior. Don’t hate yourself simply because of your past, forgive yourself, love yourself no matter what because you deserve the world and the great things in it. I love you  Have a wonderful beautiful nice day. Also how are you and your family doing today? Hope you feel better and your family.\\n자세히 보기',\n",
       " 'This man waited for 14 years to get a response from the zoo, what a legend.',\n",
       " '00:00 Intro\\n00:05 The cool thing\\n00:17 End',\n",
       " \"This is where it all began. 10 years of Music videos, movie trailers, comedy channels....10 years of people like Matthew Santoro, Pewdiepie, Ray William Johnson, Jenna Marbles, Smosh, Rhett and Link...10 years of home videos, videos of people getting wasted at a party, and I guess a good percentage of the videos here are cat videos....here's to another 10 years! \\n자세히 보기\",\n",
       " 'I like how this video is very simple and short and not to much effort put into it',\n",
       " '18 years later still legendary',\n",
       " \"Most straight forward, no BS video I have seen on YouTube.  Well done.  Maybe one day it'll be a giant in letting the general population upload videos if digital technology advances even further ;)\",\n",
       " 'This Video Will Go down as on of the greatest video in youtube history. Truely Iconic',\n",
       " \"10 years later, it's still the coolest zoo vlog ever.\",\n",
       " 'I can’t even believe that this video was shot 18 years ago... Many people didn’t even make plans for us back then, most likely this is one of the first (if not the first) video on YouTube',\n",
       " 'A true classic that never gets old',\n",
       " 'O YouTube me recomendou esse vídeo 18 anos depois do lançamento',\n",
       " 'This video is classic asf i remember watching it like 10 years ago and i cant believe its been 17 years already',\n",
       " 'As normally your parents would say: Time goes fast but you just can’t “see it”.',\n",
       " 'my kids will learn about this video in their history lessons',\n",
       " 'Cant belive its been 18 years already, times flying more than it used to ',\n",
       " 'The innocence of this video makes it worthy of being the first ever video on this platform',\n",
       " 'The algorithm recommended this out of nowhere, 18 years later',\n",
       " 'This video was 18 years ago and we still did not forget it, Always be a classic',\n",
       " 'The fact this isn’t the most “viewed” video on YouTube still leaves me flabbergasted',\n",
       " 'Crazy this video is older than most kid using this platform ',\n",
       " 'FINALMENTE ESTAMOS EM 2024 DEPOIS DE 18 ANOS POSSO DIZER QUE FOI O MOMENTO HISTORICO DO YOUTUBE',\n",
       " '18 years ago? Time flies so fast, man!',\n",
       " 'Man its been 18 years? ive been here since the beginning. time sure does fly by.',\n",
       " \"This vid was made in 2006 now it's 2024 18 years is crazy I wonder where this guy is right now jawed is an absolute legend.\",\n",
       " 'This should always stay in are heart as the first ever YouTube video ever!',\n",
       " 'This guy deserves more sub then PewDiePie. First video ever made on YouTube.',\n",
       " '18 years later..and yet there still a legend. I actually remember watching this video back in 2010. Now where in 2024, and I can’t believe how much this video has grown',\n",
       " '2024 and this is still the most historical moment in human history ',\n",
       " '18 years later and he is still an icon.....What a historical moment',\n",
       " \"Wow, it's incredible to think that this simple video, 'Me at the zoo,' holds the distinction of being the very first one uploaded to YouTube! Who would've known that this moment would mark the beginning of a revolution in online video-sharing? It's amazing how far we've come since then, with YouTube evolving into one of the most popular platforms on the internet.\\n자세히 보기\",\n",
       " 'a fragment of history\\n\\nbefore it was hacked',\n",
       " 'From 2005, all the way to 2024, and he still has the best editing skills and content',\n",
       " \"This guy's a deity of history he started it all how come churchs have not been bult to worship this guy thank you man for starting it all \",\n",
       " 'Guys, very soon this video will be 20 years old, we will try not to forget it',\n",
       " 'After 18 years, I still love this amazing first YouTube video.',\n",
       " 'Had a burning urge to revisit thjs extraordinary piece of history',\n",
       " 'kids in the back are like 20 years old now, damn the time flies by!',\n",
       " '\"Me at the zoo,\" a cherished delight,\\nA video that fills my heart with light.\\nWith grainy footage and unfiltered glee,\\nIt captured a moment that forever will be.',\n",
       " 'Isso aqui é uma raridade',\n",
       " 'уже прошло 19 лет, а видео так и остается легендарнейшим.',\n",
       " 'Already 18 years old damn time goes fast',\n",
       " 'The video will turn 16 years old in just one month!',\n",
       " 'We’re finally in 2024 and I can finally say, this was one of the most historic moments of my life.',\n",
       " 'This was the first video in the existence of YouTube and although it has low quality it is still incredible.',\n",
       " 'Always will be the best video even its old',\n",
       " 'Were here 18 years later yet this legendry video is still remembered and a big part of youtube',\n",
       " 'Очень позитивное видео! Спасибо.',\n",
       " '2005: Me at the zoo\\n2006: Me At The Zoo With Family And Friends!\\n2007: At Zoo Petting Elephants...\\n2008: Crocodiles! - Me At The Zoo\\n자세히 보기',\n",
       " '18 años ya... WOW',\n",
       " 'This video is such a classic and an absolute masterpiece ',\n",
       " 'This guy is still a legend by being a first YouTuber']"
      ]
     },
     "execution_count": 35,
     "metadata": {},
     "output_type": "execute_result"
    }
   ],
   "source": [
    "comment_list # 처음에는 20개만 수집(화면에 보이는 것만)"
   ]
  },
  {
   "cell_type": "code",
   "execution_count": 38,
   "metadata": {},
   "outputs": [],
   "source": [
    "# 6. 스크롤 내려서 댓글 갯수 확보\n",
    "comment_number = 200\n",
    "while True:\n",
    "    content_text = driver.find_elements(By.ID, \"comment-content\")\n",
    "    if len(content_text) < comment_number:\n",
    "        driver.find_element(By.CSS_SELECTOR, 'body').send_keys(Keys.END)\n",
    "        time.sleep(1)\n",
    "    else:\n",
    "        break\n",
    "comment_list = []\n",
    "for x in content_text:\n",
    "    comment_list.append(x.text)"
   ]
  },
  {
   "cell_type": "code",
   "execution_count": 40,
   "metadata": {},
   "outputs": [
    {
     "data": {
      "text/plain": [
       "200"
      ]
     },
     "execution_count": 40,
     "metadata": {},
     "output_type": "execute_result"
    }
   ],
   "source": [
    "len(comment_list)"
   ]
  },
  {
   "cell_type": "code",
   "execution_count": null,
   "metadata": {},
   "outputs": [],
   "source": []
  }
 ],
 "metadata": {
  "kernelspec": {
   "display_name": "sesac2024",
   "language": "python",
   "name": "python3"
  },
  "language_info": {
   "codemirror_mode": {
    "name": "ipython",
    "version": 3
   },
   "file_extension": ".py",
   "mimetype": "text/x-python",
   "name": "python",
   "nbconvert_exporter": "python",
   "pygments_lexer": "ipython3",
   "version": "3.10.13"
  }
 },
 "nbformat": 4,
 "nbformat_minor": 2
}
