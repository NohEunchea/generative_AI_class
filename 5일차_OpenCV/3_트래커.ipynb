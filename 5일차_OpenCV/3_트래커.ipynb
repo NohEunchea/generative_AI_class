{
 "cells": [
  {
   "cell_type": "markdown",
   "metadata": {},
   "source": [
    "#### 1. 모듈 불러오기"
   ]
  },
  {
   "cell_type": "code",
   "execution_count": 1,
   "metadata": {},
   "outputs": [],
   "source": [
    "import numpy as np\n",
    "import cv2"
   ]
  },
  {
   "cell_type": "markdown",
   "metadata": {},
   "source": [
    "#### 2. 카메라 체크"
   ]
  },
  {
   "cell_type": "code",
   "execution_count": 2,
   "metadata": {},
   "outputs": [],
   "source": [
    "cap = cv2.VideoCapture(0)\n",
    "if not cap.isOpened():\n",
    "    exit()"
   ]
  },
  {
   "cell_type": "markdown",
   "metadata": {},
   "source": [
    "#### 3. 트래커 설정"
   ]
  },
  {
   "cell_type": "code",
   "execution_count": 3,
   "metadata": {},
   "outputs": [],
   "source": [
    "tracker = cv2.TrackerCSRT_create()"
   ]
  },
  {
   "cell_type": "markdown",
   "metadata": {},
   "source": [
    "#### 4. tracking 할 부분 선택하기"
   ]
  },
  {
   "cell_type": "code",
   "execution_count": null,
   "metadata": {},
   "outputs": [],
   "source": [
    "ret, frame = cap.read()\n",
    "if not ret:\n",
    "    print('카메라가 안됩니다 확인해주세요')\n",
    "    exit()\n",
    "rc = cv2.selectROI('frame', frame)\n",
    "tracker.init(frame, rc)\n",
    "cv2.destroyWindow('frame')"
   ]
  },
  {
   "cell_type": "markdown",
   "metadata": {},
   "source": [
    "#### 5. 카메라 속 트래킹"
   ]
  },
  {
   "cell_type": "code",
   "execution_count": 5,
   "metadata": {},
   "outputs": [
    {
     "name": "stdout",
     "output_type": "stream",
     "text": [
      "(173, 166, 219, 246)\n",
      "(178, 165, 219, 246)\n",
      "(179, 165, 219, 246)\n",
      "(190, 164, 219, 246)\n",
      "(189, 165, 219, 246)\n",
      "(189, 166, 219, 246)\n",
      "(183, 164, 223, 251)\n",
      "(182, 165, 223, 251)\n",
      "(175, 165, 223, 251)\n",
      "(171, 163, 227, 256)\n",
      "(162, 161, 232, 261)\n",
      "(159, 161, 232, 261)\n",
      "(159, 160, 232, 261)\n",
      "(159, 159, 232, 261)\n"
     ]
    }
   ],
   "source": [
    "while 1:\n",
    "    ret, frame = cap.read()\n",
    "    if not ret:\n",
    "        print(\"카메라가 안됩니다.\")\n",
    "        exit()\n",
    "    # 추적 및 ROI 사각형 업데이트\n",
    "    ret, rc = tracker.update(frame)\n",
    "    print(rc) # 현재 포지션 출력\n",
    "    cv2.rectangle(frame, rc, (0,0,255), 2)\n",
    "    cv2.imshow('frame', frame)\n",
    "    if cv2.waitKey(20) == ord('q'):\n",
    "        break\n",
    "cv2.destroyAllWindows()"
   ]
  },
  {
   "cell_type": "code",
   "execution_count": null,
   "metadata": {},
   "outputs": [],
   "source": []
  }
 ],
 "metadata": {
  "kernelspec": {
   "display_name": "sesac2024",
   "language": "python",
   "name": "python3"
  },
  "language_info": {
   "codemirror_mode": {
    "name": "ipython",
    "version": 3
   },
   "file_extension": ".py",
   "mimetype": "text/x-python",
   "name": "python",
   "nbconvert_exporter": "python",
   "pygments_lexer": "ipython3",
   "version": "3.10.13"
  }
 },
 "nbformat": 4,
 "nbformat_minor": 2
}
